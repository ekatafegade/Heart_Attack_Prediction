{
 "cells": [
  {
   "cell_type": "markdown",
   "metadata": {},
   "source": [
    "Age : Age of the patient\n",
    "\n",
    "Sex : Sex of the patient\n",
    "\n",
    "exang: exercise induced angina (1 = yes; 0 = no)\n",
    "\n",
    "ca: number of major vessels (0-3)\n",
    "\n",
    "cp : Chest Pain type chest pain type\n",
    "\n",
    "Value 1: typical angina\n",
    "Value 2: atypical angina\n",
    "Value 3: non-anginal pain\n",
    "Value 4: asymptomatic\n",
    "trtbps : resting blood pressure (in mm Hg)\n",
    "\n",
    "\n",
    "chol : cholestoral in mg/dl fetched via BMI sensor\n",
    "\n",
    "fbs : (fasting blood sugar > 120 mg/dl) (1 = true; 0 = false)\n",
    "\n",
    "rest_ecg : resting electrocardiographic results\n",
    "\n",
    "Value 0: normal\n",
    "Value 1: having ST-T wave abnormality (T wave inversions and/or ST elevation or depression of > 0.05 mV)\n",
    "Value 2: showing probable or definite left ventricular hypertrophy by Estes' criteria\n",
    "\n",
    "\n",
    "thalach : maximum heart rate achieved\n",
    "\n",
    "target : 0= less chance of heart attack 1= more chance of heart attack"
   ]
  },
  {
   "cell_type": "code",
   "execution_count": 1,
   "metadata": {},
   "outputs": [],
   "source": [
    "import pandas as pd\n",
    "import numpy as np\n",
    "import matplotlib.pyplot as plt \n",
    "%matplotlib inline\n",
    "import seaborn as sns\n",
    "import _pickle \n"
   ]
  },
  {
   "cell_type": "code",
   "execution_count": 2,
   "metadata": {},
   "outputs": [],
   "source": [
    "df = pd.read_csv('heart.csv')"
   ]
  },
  {
   "cell_type": "code",
   "execution_count": 3,
   "metadata": {},
   "outputs": [
    {
     "data": {
      "text/html": [
       "<div>\n",
       "<style scoped>\n",
       "    .dataframe tbody tr th:only-of-type {\n",
       "        vertical-align: middle;\n",
       "    }\n",
       "\n",
       "    .dataframe tbody tr th {\n",
       "        vertical-align: top;\n",
       "    }\n",
       "\n",
       "    .dataframe thead th {\n",
       "        text-align: right;\n",
       "    }\n",
       "</style>\n",
       "<table border=\"1\" class=\"dataframe\">\n",
       "  <thead>\n",
       "    <tr style=\"text-align: right;\">\n",
       "      <th></th>\n",
       "      <th>age</th>\n",
       "      <th>sex</th>\n",
       "      <th>cp</th>\n",
       "      <th>trtbps</th>\n",
       "      <th>chol</th>\n",
       "      <th>fbs</th>\n",
       "      <th>restecg</th>\n",
       "      <th>thalachh</th>\n",
       "      <th>exng</th>\n",
       "      <th>oldpeak</th>\n",
       "      <th>slp</th>\n",
       "      <th>caa</th>\n",
       "      <th>thall</th>\n",
       "      <th>output</th>\n",
       "    </tr>\n",
       "  </thead>\n",
       "  <tbody>\n",
       "    <tr>\n",
       "      <th>298</th>\n",
       "      <td>57</td>\n",
       "      <td>0</td>\n",
       "      <td>0</td>\n",
       "      <td>140</td>\n",
       "      <td>241</td>\n",
       "      <td>0</td>\n",
       "      <td>1</td>\n",
       "      <td>123</td>\n",
       "      <td>1</td>\n",
       "      <td>0.2</td>\n",
       "      <td>1</td>\n",
       "      <td>0</td>\n",
       "      <td>3</td>\n",
       "      <td>0</td>\n",
       "    </tr>\n",
       "    <tr>\n",
       "      <th>299</th>\n",
       "      <td>45</td>\n",
       "      <td>1</td>\n",
       "      <td>3</td>\n",
       "      <td>110</td>\n",
       "      <td>264</td>\n",
       "      <td>0</td>\n",
       "      <td>1</td>\n",
       "      <td>132</td>\n",
       "      <td>0</td>\n",
       "      <td>1.2</td>\n",
       "      <td>1</td>\n",
       "      <td>0</td>\n",
       "      <td>3</td>\n",
       "      <td>0</td>\n",
       "    </tr>\n",
       "    <tr>\n",
       "      <th>300</th>\n",
       "      <td>68</td>\n",
       "      <td>1</td>\n",
       "      <td>0</td>\n",
       "      <td>144</td>\n",
       "      <td>193</td>\n",
       "      <td>1</td>\n",
       "      <td>1</td>\n",
       "      <td>141</td>\n",
       "      <td>0</td>\n",
       "      <td>3.4</td>\n",
       "      <td>1</td>\n",
       "      <td>2</td>\n",
       "      <td>3</td>\n",
       "      <td>0</td>\n",
       "    </tr>\n",
       "    <tr>\n",
       "      <th>301</th>\n",
       "      <td>57</td>\n",
       "      <td>1</td>\n",
       "      <td>0</td>\n",
       "      <td>130</td>\n",
       "      <td>131</td>\n",
       "      <td>0</td>\n",
       "      <td>1</td>\n",
       "      <td>115</td>\n",
       "      <td>1</td>\n",
       "      <td>1.2</td>\n",
       "      <td>1</td>\n",
       "      <td>1</td>\n",
       "      <td>3</td>\n",
       "      <td>0</td>\n",
       "    </tr>\n",
       "    <tr>\n",
       "      <th>302</th>\n",
       "      <td>57</td>\n",
       "      <td>0</td>\n",
       "      <td>1</td>\n",
       "      <td>130</td>\n",
       "      <td>236</td>\n",
       "      <td>0</td>\n",
       "      <td>0</td>\n",
       "      <td>174</td>\n",
       "      <td>0</td>\n",
       "      <td>0.0</td>\n",
       "      <td>1</td>\n",
       "      <td>1</td>\n",
       "      <td>2</td>\n",
       "      <td>0</td>\n",
       "    </tr>\n",
       "  </tbody>\n",
       "</table>\n",
       "</div>"
      ],
      "text/plain": [
       "     age  sex  cp  trtbps  chol  fbs  restecg  thalachh  exng  oldpeak  slp  \\\n",
       "298   57    0   0     140   241    0        1       123     1      0.2    1   \n",
       "299   45    1   3     110   264    0        1       132     0      1.2    1   \n",
       "300   68    1   0     144   193    1        1       141     0      3.4    1   \n",
       "301   57    1   0     130   131    0        1       115     1      1.2    1   \n",
       "302   57    0   1     130   236    0        0       174     0      0.0    1   \n",
       "\n",
       "     caa  thall  output  \n",
       "298    0      3       0  \n",
       "299    0      3       0  \n",
       "300    2      3       0  \n",
       "301    1      3       0  \n",
       "302    1      2       0  "
      ]
     },
     "execution_count": 3,
     "metadata": {},
     "output_type": "execute_result"
    }
   ],
   "source": [
    "df.tail()"
   ]
  },
  {
   "cell_type": "code",
   "execution_count": 5,
   "metadata": {},
   "outputs": [
    {
     "data": {
      "text/plain": [
       "array([0, 2, 1, 3, 4], dtype=int64)"
      ]
     },
     "execution_count": 5,
     "metadata": {},
     "output_type": "execute_result"
    }
   ],
   "source": [
    "df.caa.unique()"
   ]
  },
  {
   "cell_type": "code",
   "execution_count": 58,
   "metadata": {},
   "outputs": [
    {
     "name": "stdout",
     "output_type": "stream",
     "text": [
      "<class 'pandas.core.frame.DataFrame'>\n",
      "RangeIndex: 303 entries, 0 to 302\n",
      "Data columns (total 14 columns):\n",
      " #   Column    Non-Null Count  Dtype  \n",
      "---  ------    --------------  -----  \n",
      " 0   age       303 non-null    int64  \n",
      " 1   sex       303 non-null    int64  \n",
      " 2   cp        303 non-null    int64  \n",
      " 3   trtbps    303 non-null    int64  \n",
      " 4   chol      303 non-null    int64  \n",
      " 5   fbs       303 non-null    int64  \n",
      " 6   restecg   303 non-null    int64  \n",
      " 7   thalachh  303 non-null    int64  \n",
      " 8   exng      303 non-null    int64  \n",
      " 9   oldpeak   303 non-null    float64\n",
      " 10  slp       303 non-null    int64  \n",
      " 11  caa       303 non-null    int64  \n",
      " 12  thall     303 non-null    int64  \n",
      " 13  output    303 non-null    int64  \n",
      "dtypes: float64(1), int64(13)\n",
      "memory usage: 33.3 KB\n"
     ]
    }
   ],
   "source": [
    "df.info()"
   ]
  },
  {
   "cell_type": "code",
   "execution_count": 59,
   "metadata": {},
   "outputs": [
    {
     "data": {
      "text/html": [
       "<style type=\"text/css\">\n",
       "#T_a65bb_row0_col0, #T_a65bb_row0_col1, #T_a65bb_row0_col2, #T_a65bb_row0_col5, #T_a65bb_row1_col1, #T_a65bb_row1_col6, #T_a65bb_row1_col7, #T_a65bb_row1_col9, #T_a65bb_row2_col10, #T_a65bb_row3_col1, #T_a65bb_row3_col6, #T_a65bb_row3_col10, #T_a65bb_row4_col4, #T_a65bb_row4_col6, #T_a65bb_row4_col8, #T_a65bb_row4_col10, #T_a65bb_row5_col1, #T_a65bb_row5_col6, #T_a65bb_row7_col1, #T_a65bb_row7_col6, #T_a65bb_row7_col10, #T_a65bb_row7_col12, #T_a65bb_row8_col1, #T_a65bb_row8_col3, #T_a65bb_row8_col5, #T_a65bb_row8_col6, #T_a65bb_row8_col10, #T_a65bb_row8_col12, #T_a65bb_row9_col1, #T_a65bb_row9_col6, #T_a65bb_row9_col10 {\n",
       "  background-color: #ffc77f;\n",
       "  color: #000000;\n",
       "}\n",
       "#T_a65bb_row0_col3 {\n",
       "  background-color: #98603d;\n",
       "  color: #f1f1f1;\n",
       "}\n",
       "#T_a65bb_row0_col4 {\n",
       "  background-color: #6e462c;\n",
       "  color: #f1f1f1;\n",
       "}\n",
       "#T_a65bb_row0_col6, #T_a65bb_row0_col8, #T_a65bb_row0_col10, #T_a65bb_row0_col11, #T_a65bb_row0_col12, #T_a65bb_row0_col13, #T_a65bb_row1_col0, #T_a65bb_row1_col5, #T_a65bb_row1_col8, #T_a65bb_row1_col10, #T_a65bb_row1_col11, #T_a65bb_row1_col13, #T_a65bb_row2_col1, #T_a65bb_row2_col5, #T_a65bb_row2_col6, #T_a65bb_row2_col8, #T_a65bb_row2_col11, #T_a65bb_row2_col13, #T_a65bb_row3_col3, #T_a65bb_row3_col5, #T_a65bb_row3_col8, #T_a65bb_row3_col11, #T_a65bb_row3_col13, #T_a65bb_row4_col1, #T_a65bb_row4_col2, #T_a65bb_row4_col3, #T_a65bb_row4_col5, #T_a65bb_row4_col11, #T_a65bb_row4_col13, #T_a65bb_row5_col2, #T_a65bb_row5_col5, #T_a65bb_row5_col7, #T_a65bb_row5_col8, #T_a65bb_row5_col11, #T_a65bb_row5_col12, #T_a65bb_row5_col13, #T_a65bb_row6_col1, #T_a65bb_row6_col5, #T_a65bb_row6_col6, #T_a65bb_row6_col8, #T_a65bb_row6_col11, #T_a65bb_row6_col13, #T_a65bb_row7_col3, #T_a65bb_row7_col5, #T_a65bb_row7_col8, #T_a65bb_row7_col9, #T_a65bb_row7_col11, #T_a65bb_row7_col13, #T_a65bb_row8_col8, #T_a65bb_row8_col11, #T_a65bb_row8_col13, #T_a65bb_row9_col4, #T_a65bb_row9_col5, #T_a65bb_row9_col8, #T_a65bb_row9_col11, #T_a65bb_row9_col13 {\n",
       "  background-color: #000000;\n",
       "  color: #f1f1f1;\n",
       "}\n",
       "#T_a65bb_row0_col7 {\n",
       "  background-color: #100a06;\n",
       "  color: #f1f1f1;\n",
       "}\n",
       "#T_a65bb_row0_col9 {\n",
       "  background-color: #d08354;\n",
       "  color: #f1f1f1;\n",
       "}\n",
       "#T_a65bb_row1_col2, #T_a65bb_row8_col2, #T_a65bb_row9_col2, #T_a65bb_row9_col7 {\n",
       "  background-color: #d28555;\n",
       "  color: #f1f1f1;\n",
       "}\n",
       "#T_a65bb_row1_col3, #T_a65bb_row2_col3, #T_a65bb_row2_col4 {\n",
       "  background-color: #3d2618;\n",
       "  color: #f1f1f1;\n",
       "}\n",
       "#T_a65bb_row1_col4 {\n",
       "  background-color: #8a5738;\n",
       "  color: #f1f1f1;\n",
       "}\n",
       "#T_a65bb_row1_col12, #T_a65bb_row2_col12, #T_a65bb_row3_col12, #T_a65bb_row4_col12, #T_a65bb_row5_col10, #T_a65bb_row6_col10, #T_a65bb_row6_col12, #T_a65bb_row9_col12 {\n",
       "  background-color: #9e6440;\n",
       "  color: #f1f1f1;\n",
       "}\n",
       "#T_a65bb_row2_col0 {\n",
       "  background-color: #301e13;\n",
       "  color: #f1f1f1;\n",
       "}\n",
       "#T_a65bb_row2_col2, #T_a65bb_row3_col2, #T_a65bb_row6_col2, #T_a65bb_row7_col2 {\n",
       "  background-color: #69422a;\n",
       "  color: #f1f1f1;\n",
       "}\n",
       "#T_a65bb_row2_col7 {\n",
       "  background-color: #c27b4e;\n",
       "  color: #f1f1f1;\n",
       "}\n",
       "#T_a65bb_row2_col9 {\n",
       "  background-color: #7e5033;\n",
       "  color: #f1f1f1;\n",
       "}\n",
       "#T_a65bb_row3_col0, #T_a65bb_row6_col0 {\n",
       "  background-color: #e7925d;\n",
       "  color: #f1f1f1;\n",
       "}\n",
       "#T_a65bb_row3_col4 {\n",
       "  background-color: #73492e;\n",
       "  color: #f1f1f1;\n",
       "}\n",
       "#T_a65bb_row3_col7, #T_a65bb_row4_col0, #T_a65bb_row5_col0, #T_a65bb_row9_col0 {\n",
       "  background-color: #f29962;\n",
       "  color: #000000;\n",
       "}\n",
       "#T_a65bb_row3_col9 {\n",
       "  background-color: #482d1d;\n",
       "  color: #f1f1f1;\n",
       "}\n",
       "#T_a65bb_row4_col7, #T_a65bb_row5_col3, #T_a65bb_row6_col3 {\n",
       "  background-color: #794d31;\n",
       "  color: #f1f1f1;\n",
       "}\n",
       "#T_a65bb_row4_col9 {\n",
       "  background-color: #352215;\n",
       "  color: #f1f1f1;\n",
       "}\n",
       "#T_a65bb_row5_col4 {\n",
       "  background-color: #291a10;\n",
       "  color: #f1f1f1;\n",
       "}\n",
       "#T_a65bb_row5_col9 {\n",
       "  background-color: #24170e;\n",
       "  color: #f1f1f1;\n",
       "}\n",
       "#T_a65bb_row6_col4 {\n",
       "  background-color: #d68756;\n",
       "  color: #f1f1f1;\n",
       "}\n",
       "#T_a65bb_row6_col7 {\n",
       "  background-color: #281910;\n",
       "  color: #f1f1f1;\n",
       "}\n",
       "#T_a65bb_row6_col9 {\n",
       "  background-color: #754a2f;\n",
       "  color: #f1f1f1;\n",
       "}\n",
       "#T_a65bb_row7_col0 {\n",
       "  background-color: #543522;\n",
       "  color: #f1f1f1;\n",
       "}\n",
       "#T_a65bb_row7_col4 {\n",
       "  background-color: #a16641;\n",
       "  color: #f1f1f1;\n",
       "}\n",
       "#T_a65bb_row7_col7 {\n",
       "  background-color: #cb8052;\n",
       "  color: #f1f1f1;\n",
       "}\n",
       "#T_a65bb_row8_col0, #T_a65bb_row9_col3 {\n",
       "  background-color: #b67349;\n",
       "  color: #f1f1f1;\n",
       "}\n",
       "#T_a65bb_row8_col4 {\n",
       "  background-color: #342115;\n",
       "  color: #f1f1f1;\n",
       "}\n",
       "#T_a65bb_row8_col7 {\n",
       "  background-color: #70472d;\n",
       "  color: #f1f1f1;\n",
       "}\n",
       "#T_a65bb_row8_col9 {\n",
       "  background-color: #2c1c12;\n",
       "  color: #f1f1f1;\n",
       "}\n",
       "#T_a65bb_row9_col9 {\n",
       "  background-color: #915b3a;\n",
       "  color: #f1f1f1;\n",
       "}\n",
       "</style>\n",
       "<table id=\"T_a65bb\">\n",
       "  <thead>\n",
       "    <tr>\n",
       "      <th class=\"blank level0\" >&nbsp;</th>\n",
       "      <th id=\"T_a65bb_level0_col0\" class=\"col_heading level0 col0\" >age</th>\n",
       "      <th id=\"T_a65bb_level0_col1\" class=\"col_heading level0 col1\" >sex</th>\n",
       "      <th id=\"T_a65bb_level0_col2\" class=\"col_heading level0 col2\" >cp</th>\n",
       "      <th id=\"T_a65bb_level0_col3\" class=\"col_heading level0 col3\" >trtbps</th>\n",
       "      <th id=\"T_a65bb_level0_col4\" class=\"col_heading level0 col4\" >chol</th>\n",
       "      <th id=\"T_a65bb_level0_col5\" class=\"col_heading level0 col5\" >fbs</th>\n",
       "      <th id=\"T_a65bb_level0_col6\" class=\"col_heading level0 col6\" >restecg</th>\n",
       "      <th id=\"T_a65bb_level0_col7\" class=\"col_heading level0 col7\" >thalachh</th>\n",
       "      <th id=\"T_a65bb_level0_col8\" class=\"col_heading level0 col8\" >exng</th>\n",
       "      <th id=\"T_a65bb_level0_col9\" class=\"col_heading level0 col9\" >oldpeak</th>\n",
       "      <th id=\"T_a65bb_level0_col10\" class=\"col_heading level0 col10\" >slp</th>\n",
       "      <th id=\"T_a65bb_level0_col11\" class=\"col_heading level0 col11\" >caa</th>\n",
       "      <th id=\"T_a65bb_level0_col12\" class=\"col_heading level0 col12\" >thall</th>\n",
       "      <th id=\"T_a65bb_level0_col13\" class=\"col_heading level0 col13\" >output</th>\n",
       "    </tr>\n",
       "  </thead>\n",
       "  <tbody>\n",
       "    <tr>\n",
       "      <th id=\"T_a65bb_level0_row0\" class=\"row_heading level0 row0\" >0</th>\n",
       "      <td id=\"T_a65bb_row0_col0\" class=\"data row0 col0\" >63</td>\n",
       "      <td id=\"T_a65bb_row0_col1\" class=\"data row0 col1\" >1</td>\n",
       "      <td id=\"T_a65bb_row0_col2\" class=\"data row0 col2\" >3</td>\n",
       "      <td id=\"T_a65bb_row0_col3\" class=\"data row0 col3\" >145</td>\n",
       "      <td id=\"T_a65bb_row0_col4\" class=\"data row0 col4\" >233</td>\n",
       "      <td id=\"T_a65bb_row0_col5\" class=\"data row0 col5\" >1</td>\n",
       "      <td id=\"T_a65bb_row0_col6\" class=\"data row0 col6\" >0</td>\n",
       "      <td id=\"T_a65bb_row0_col7\" class=\"data row0 col7\" >150</td>\n",
       "      <td id=\"T_a65bb_row0_col8\" class=\"data row0 col8\" >0</td>\n",
       "      <td id=\"T_a65bb_row0_col9\" class=\"data row0 col9\" >2.300000</td>\n",
       "      <td id=\"T_a65bb_row0_col10\" class=\"data row0 col10\" >0</td>\n",
       "      <td id=\"T_a65bb_row0_col11\" class=\"data row0 col11\" >0</td>\n",
       "      <td id=\"T_a65bb_row0_col12\" class=\"data row0 col12\" >1</td>\n",
       "      <td id=\"T_a65bb_row0_col13\" class=\"data row0 col13\" >1</td>\n",
       "    </tr>\n",
       "    <tr>\n",
       "      <th id=\"T_a65bb_level0_row1\" class=\"row_heading level0 row1\" >1</th>\n",
       "      <td id=\"T_a65bb_row1_col0\" class=\"data row1 col0\" >37</td>\n",
       "      <td id=\"T_a65bb_row1_col1\" class=\"data row1 col1\" >1</td>\n",
       "      <td id=\"T_a65bb_row1_col2\" class=\"data row1 col2\" >2</td>\n",
       "      <td id=\"T_a65bb_row1_col3\" class=\"data row1 col3\" >130</td>\n",
       "      <td id=\"T_a65bb_row1_col4\" class=\"data row1 col4\" >250</td>\n",
       "      <td id=\"T_a65bb_row1_col5\" class=\"data row1 col5\" >0</td>\n",
       "      <td id=\"T_a65bb_row1_col6\" class=\"data row1 col6\" >1</td>\n",
       "      <td id=\"T_a65bb_row1_col7\" class=\"data row1 col7\" >187</td>\n",
       "      <td id=\"T_a65bb_row1_col8\" class=\"data row1 col8\" >0</td>\n",
       "      <td id=\"T_a65bb_row1_col9\" class=\"data row1 col9\" >3.500000</td>\n",
       "      <td id=\"T_a65bb_row1_col10\" class=\"data row1 col10\" >0</td>\n",
       "      <td id=\"T_a65bb_row1_col11\" class=\"data row1 col11\" >0</td>\n",
       "      <td id=\"T_a65bb_row1_col12\" class=\"data row1 col12\" >2</td>\n",
       "      <td id=\"T_a65bb_row1_col13\" class=\"data row1 col13\" >1</td>\n",
       "    </tr>\n",
       "    <tr>\n",
       "      <th id=\"T_a65bb_level0_row2\" class=\"row_heading level0 row2\" >2</th>\n",
       "      <td id=\"T_a65bb_row2_col0\" class=\"data row2 col0\" >41</td>\n",
       "      <td id=\"T_a65bb_row2_col1\" class=\"data row2 col1\" >0</td>\n",
       "      <td id=\"T_a65bb_row2_col2\" class=\"data row2 col2\" >1</td>\n",
       "      <td id=\"T_a65bb_row2_col3\" class=\"data row2 col3\" >130</td>\n",
       "      <td id=\"T_a65bb_row2_col4\" class=\"data row2 col4\" >204</td>\n",
       "      <td id=\"T_a65bb_row2_col5\" class=\"data row2 col5\" >0</td>\n",
       "      <td id=\"T_a65bb_row2_col6\" class=\"data row2 col6\" >0</td>\n",
       "      <td id=\"T_a65bb_row2_col7\" class=\"data row2 col7\" >172</td>\n",
       "      <td id=\"T_a65bb_row2_col8\" class=\"data row2 col8\" >0</td>\n",
       "      <td id=\"T_a65bb_row2_col9\" class=\"data row2 col9\" >1.400000</td>\n",
       "      <td id=\"T_a65bb_row2_col10\" class=\"data row2 col10\" >2</td>\n",
       "      <td id=\"T_a65bb_row2_col11\" class=\"data row2 col11\" >0</td>\n",
       "      <td id=\"T_a65bb_row2_col12\" class=\"data row2 col12\" >2</td>\n",
       "      <td id=\"T_a65bb_row2_col13\" class=\"data row2 col13\" >1</td>\n",
       "    </tr>\n",
       "    <tr>\n",
       "      <th id=\"T_a65bb_level0_row3\" class=\"row_heading level0 row3\" >3</th>\n",
       "      <td id=\"T_a65bb_row3_col0\" class=\"data row3 col0\" >56</td>\n",
       "      <td id=\"T_a65bb_row3_col1\" class=\"data row3 col1\" >1</td>\n",
       "      <td id=\"T_a65bb_row3_col2\" class=\"data row3 col2\" >1</td>\n",
       "      <td id=\"T_a65bb_row3_col3\" class=\"data row3 col3\" >120</td>\n",
       "      <td id=\"T_a65bb_row3_col4\" class=\"data row3 col4\" >236</td>\n",
       "      <td id=\"T_a65bb_row3_col5\" class=\"data row3 col5\" >0</td>\n",
       "      <td id=\"T_a65bb_row3_col6\" class=\"data row3 col6\" >1</td>\n",
       "      <td id=\"T_a65bb_row3_col7\" class=\"data row3 col7\" >178</td>\n",
       "      <td id=\"T_a65bb_row3_col8\" class=\"data row3 col8\" >0</td>\n",
       "      <td id=\"T_a65bb_row3_col9\" class=\"data row3 col9\" >0.800000</td>\n",
       "      <td id=\"T_a65bb_row3_col10\" class=\"data row3 col10\" >2</td>\n",
       "      <td id=\"T_a65bb_row3_col11\" class=\"data row3 col11\" >0</td>\n",
       "      <td id=\"T_a65bb_row3_col12\" class=\"data row3 col12\" >2</td>\n",
       "      <td id=\"T_a65bb_row3_col13\" class=\"data row3 col13\" >1</td>\n",
       "    </tr>\n",
       "    <tr>\n",
       "      <th id=\"T_a65bb_level0_row4\" class=\"row_heading level0 row4\" >4</th>\n",
       "      <td id=\"T_a65bb_row4_col0\" class=\"data row4 col0\" >57</td>\n",
       "      <td id=\"T_a65bb_row4_col1\" class=\"data row4 col1\" >0</td>\n",
       "      <td id=\"T_a65bb_row4_col2\" class=\"data row4 col2\" >0</td>\n",
       "      <td id=\"T_a65bb_row4_col3\" class=\"data row4 col3\" >120</td>\n",
       "      <td id=\"T_a65bb_row4_col4\" class=\"data row4 col4\" >354</td>\n",
       "      <td id=\"T_a65bb_row4_col5\" class=\"data row4 col5\" >0</td>\n",
       "      <td id=\"T_a65bb_row4_col6\" class=\"data row4 col6\" >1</td>\n",
       "      <td id=\"T_a65bb_row4_col7\" class=\"data row4 col7\" >163</td>\n",
       "      <td id=\"T_a65bb_row4_col8\" class=\"data row4 col8\" >1</td>\n",
       "      <td id=\"T_a65bb_row4_col9\" class=\"data row4 col9\" >0.600000</td>\n",
       "      <td id=\"T_a65bb_row4_col10\" class=\"data row4 col10\" >2</td>\n",
       "      <td id=\"T_a65bb_row4_col11\" class=\"data row4 col11\" >0</td>\n",
       "      <td id=\"T_a65bb_row4_col12\" class=\"data row4 col12\" >2</td>\n",
       "      <td id=\"T_a65bb_row4_col13\" class=\"data row4 col13\" >1</td>\n",
       "    </tr>\n",
       "    <tr>\n",
       "      <th id=\"T_a65bb_level0_row5\" class=\"row_heading level0 row5\" >5</th>\n",
       "      <td id=\"T_a65bb_row5_col0\" class=\"data row5 col0\" >57</td>\n",
       "      <td id=\"T_a65bb_row5_col1\" class=\"data row5 col1\" >1</td>\n",
       "      <td id=\"T_a65bb_row5_col2\" class=\"data row5 col2\" >0</td>\n",
       "      <td id=\"T_a65bb_row5_col3\" class=\"data row5 col3\" >140</td>\n",
       "      <td id=\"T_a65bb_row5_col4\" class=\"data row5 col4\" >192</td>\n",
       "      <td id=\"T_a65bb_row5_col5\" class=\"data row5 col5\" >0</td>\n",
       "      <td id=\"T_a65bb_row5_col6\" class=\"data row5 col6\" >1</td>\n",
       "      <td id=\"T_a65bb_row5_col7\" class=\"data row5 col7\" >148</td>\n",
       "      <td id=\"T_a65bb_row5_col8\" class=\"data row5 col8\" >0</td>\n",
       "      <td id=\"T_a65bb_row5_col9\" class=\"data row5 col9\" >0.400000</td>\n",
       "      <td id=\"T_a65bb_row5_col10\" class=\"data row5 col10\" >1</td>\n",
       "      <td id=\"T_a65bb_row5_col11\" class=\"data row5 col11\" >0</td>\n",
       "      <td id=\"T_a65bb_row5_col12\" class=\"data row5 col12\" >1</td>\n",
       "      <td id=\"T_a65bb_row5_col13\" class=\"data row5 col13\" >1</td>\n",
       "    </tr>\n",
       "    <tr>\n",
       "      <th id=\"T_a65bb_level0_row6\" class=\"row_heading level0 row6\" >6</th>\n",
       "      <td id=\"T_a65bb_row6_col0\" class=\"data row6 col0\" >56</td>\n",
       "      <td id=\"T_a65bb_row6_col1\" class=\"data row6 col1\" >0</td>\n",
       "      <td id=\"T_a65bb_row6_col2\" class=\"data row6 col2\" >1</td>\n",
       "      <td id=\"T_a65bb_row6_col3\" class=\"data row6 col3\" >140</td>\n",
       "      <td id=\"T_a65bb_row6_col4\" class=\"data row6 col4\" >294</td>\n",
       "      <td id=\"T_a65bb_row6_col5\" class=\"data row6 col5\" >0</td>\n",
       "      <td id=\"T_a65bb_row6_col6\" class=\"data row6 col6\" >0</td>\n",
       "      <td id=\"T_a65bb_row6_col7\" class=\"data row6 col7\" >153</td>\n",
       "      <td id=\"T_a65bb_row6_col8\" class=\"data row6 col8\" >0</td>\n",
       "      <td id=\"T_a65bb_row6_col9\" class=\"data row6 col9\" >1.300000</td>\n",
       "      <td id=\"T_a65bb_row6_col10\" class=\"data row6 col10\" >1</td>\n",
       "      <td id=\"T_a65bb_row6_col11\" class=\"data row6 col11\" >0</td>\n",
       "      <td id=\"T_a65bb_row6_col12\" class=\"data row6 col12\" >2</td>\n",
       "      <td id=\"T_a65bb_row6_col13\" class=\"data row6 col13\" >1</td>\n",
       "    </tr>\n",
       "    <tr>\n",
       "      <th id=\"T_a65bb_level0_row7\" class=\"row_heading level0 row7\" >7</th>\n",
       "      <td id=\"T_a65bb_row7_col0\" class=\"data row7 col0\" >44</td>\n",
       "      <td id=\"T_a65bb_row7_col1\" class=\"data row7 col1\" >1</td>\n",
       "      <td id=\"T_a65bb_row7_col2\" class=\"data row7 col2\" >1</td>\n",
       "      <td id=\"T_a65bb_row7_col3\" class=\"data row7 col3\" >120</td>\n",
       "      <td id=\"T_a65bb_row7_col4\" class=\"data row7 col4\" >263</td>\n",
       "      <td id=\"T_a65bb_row7_col5\" class=\"data row7 col5\" >0</td>\n",
       "      <td id=\"T_a65bb_row7_col6\" class=\"data row7 col6\" >1</td>\n",
       "      <td id=\"T_a65bb_row7_col7\" class=\"data row7 col7\" >173</td>\n",
       "      <td id=\"T_a65bb_row7_col8\" class=\"data row7 col8\" >0</td>\n",
       "      <td id=\"T_a65bb_row7_col9\" class=\"data row7 col9\" >0.000000</td>\n",
       "      <td id=\"T_a65bb_row7_col10\" class=\"data row7 col10\" >2</td>\n",
       "      <td id=\"T_a65bb_row7_col11\" class=\"data row7 col11\" >0</td>\n",
       "      <td id=\"T_a65bb_row7_col12\" class=\"data row7 col12\" >3</td>\n",
       "      <td id=\"T_a65bb_row7_col13\" class=\"data row7 col13\" >1</td>\n",
       "    </tr>\n",
       "    <tr>\n",
       "      <th id=\"T_a65bb_level0_row8\" class=\"row_heading level0 row8\" >8</th>\n",
       "      <td id=\"T_a65bb_row8_col0\" class=\"data row8 col0\" >52</td>\n",
       "      <td id=\"T_a65bb_row8_col1\" class=\"data row8 col1\" >1</td>\n",
       "      <td id=\"T_a65bb_row8_col2\" class=\"data row8 col2\" >2</td>\n",
       "      <td id=\"T_a65bb_row8_col3\" class=\"data row8 col3\" >172</td>\n",
       "      <td id=\"T_a65bb_row8_col4\" class=\"data row8 col4\" >199</td>\n",
       "      <td id=\"T_a65bb_row8_col5\" class=\"data row8 col5\" >1</td>\n",
       "      <td id=\"T_a65bb_row8_col6\" class=\"data row8 col6\" >1</td>\n",
       "      <td id=\"T_a65bb_row8_col7\" class=\"data row8 col7\" >162</td>\n",
       "      <td id=\"T_a65bb_row8_col8\" class=\"data row8 col8\" >0</td>\n",
       "      <td id=\"T_a65bb_row8_col9\" class=\"data row8 col9\" >0.500000</td>\n",
       "      <td id=\"T_a65bb_row8_col10\" class=\"data row8 col10\" >2</td>\n",
       "      <td id=\"T_a65bb_row8_col11\" class=\"data row8 col11\" >0</td>\n",
       "      <td id=\"T_a65bb_row8_col12\" class=\"data row8 col12\" >3</td>\n",
       "      <td id=\"T_a65bb_row8_col13\" class=\"data row8 col13\" >1</td>\n",
       "    </tr>\n",
       "    <tr>\n",
       "      <th id=\"T_a65bb_level0_row9\" class=\"row_heading level0 row9\" >9</th>\n",
       "      <td id=\"T_a65bb_row9_col0\" class=\"data row9 col0\" >57</td>\n",
       "      <td id=\"T_a65bb_row9_col1\" class=\"data row9 col1\" >1</td>\n",
       "      <td id=\"T_a65bb_row9_col2\" class=\"data row9 col2\" >2</td>\n",
       "      <td id=\"T_a65bb_row9_col3\" class=\"data row9 col3\" >150</td>\n",
       "      <td id=\"T_a65bb_row9_col4\" class=\"data row9 col4\" >168</td>\n",
       "      <td id=\"T_a65bb_row9_col5\" class=\"data row9 col5\" >0</td>\n",
       "      <td id=\"T_a65bb_row9_col6\" class=\"data row9 col6\" >1</td>\n",
       "      <td id=\"T_a65bb_row9_col7\" class=\"data row9 col7\" >174</td>\n",
       "      <td id=\"T_a65bb_row9_col8\" class=\"data row9 col8\" >0</td>\n",
       "      <td id=\"T_a65bb_row9_col9\" class=\"data row9 col9\" >1.600000</td>\n",
       "      <td id=\"T_a65bb_row9_col10\" class=\"data row9 col10\" >2</td>\n",
       "      <td id=\"T_a65bb_row9_col11\" class=\"data row9 col11\" >0</td>\n",
       "      <td id=\"T_a65bb_row9_col12\" class=\"data row9 col12\" >2</td>\n",
       "      <td id=\"T_a65bb_row9_col13\" class=\"data row9 col13\" >1</td>\n",
       "    </tr>\n",
       "  </tbody>\n",
       "</table>\n"
      ],
      "text/plain": [
       "<pandas.io.formats.style.Styler at 0x1a7582673d0>"
      ]
     },
     "execution_count": 59,
     "metadata": {},
     "output_type": "execute_result"
    }
   ],
   "source": [
    "df.head(10).style.background_gradient(cmap = 'copper')"
   ]
  },
  {
   "cell_type": "code",
   "execution_count": 60,
   "metadata": {},
   "outputs": [
    {
     "data": {
      "text/plain": [
       "(303, 14)"
      ]
     },
     "execution_count": 60,
     "metadata": {},
     "output_type": "execute_result"
    }
   ],
   "source": [
    "df.shape"
   ]
  },
  {
   "cell_type": "code",
   "execution_count": 61,
   "metadata": {},
   "outputs": [
    {
     "data": {
      "text/html": [
       "<style type=\"text/css\">\n",
       "#T_b7398_row0_col0, #T_b7398_row0_col1, #T_b7398_row0_col2, #T_b7398_row0_col3, #T_b7398_row0_col5, #T_b7398_row0_col6, #T_b7398_row0_col7, #T_b7398_row0_col8, #T_b7398_row0_col9, #T_b7398_row0_col10, #T_b7398_row0_col11, #T_b7398_row0_col12, #T_b7398_row0_col13, #T_b7398_row7_col4 {\n",
       "  background-color: #ffc77f;\n",
       "  color: #000000;\n",
       "}\n",
       "#T_b7398_row0_col4 {\n",
       "  background-color: #9a623e;\n",
       "  color: #f1f1f1;\n",
       "}\n",
       "#T_b7398_row1_col0, #T_b7398_row5_col0 {\n",
       "  background-color: #301e13;\n",
       "  color: #f1f1f1;\n",
       "}\n",
       "#T_b7398_row1_col1, #T_b7398_row1_col2, #T_b7398_row1_col5, #T_b7398_row1_col6, #T_b7398_row1_col8, #T_b7398_row1_col9, #T_b7398_row1_col11, #T_b7398_row1_col13, #T_b7398_row2_col0, #T_b7398_row2_col1, #T_b7398_row2_col2, #T_b7398_row2_col3, #T_b7398_row2_col4, #T_b7398_row2_col5, #T_b7398_row2_col6, #T_b7398_row2_col7, #T_b7398_row2_col8, #T_b7398_row2_col9, #T_b7398_row2_col10, #T_b7398_row2_col11, #T_b7398_row2_col12, #T_b7398_row2_col13, #T_b7398_row3_col1, #T_b7398_row3_col2, #T_b7398_row3_col5, #T_b7398_row3_col6, #T_b7398_row3_col8, #T_b7398_row3_col9, #T_b7398_row3_col10, #T_b7398_row3_col11, #T_b7398_row3_col12, #T_b7398_row3_col13, #T_b7398_row4_col1, #T_b7398_row4_col2, #T_b7398_row4_col5, #T_b7398_row4_col6, #T_b7398_row4_col8, #T_b7398_row4_col9, #T_b7398_row4_col10, #T_b7398_row4_col11, #T_b7398_row4_col13, #T_b7398_row5_col1, #T_b7398_row5_col2, #T_b7398_row5_col5, #T_b7398_row5_col6, #T_b7398_row5_col8, #T_b7398_row5_col9, #T_b7398_row5_col10, #T_b7398_row5_col11, #T_b7398_row5_col13, #T_b7398_row6_col1, #T_b7398_row6_col5, #T_b7398_row6_col6, #T_b7398_row6_col8, #T_b7398_row6_col11, #T_b7398_row6_col13, #T_b7398_row7_col1, #T_b7398_row7_col5, #T_b7398_row7_col8, #T_b7398_row7_col13 {\n",
       "  background-color: #000000;\n",
       "  color: #f1f1f1;\n",
       "}\n",
       "#T_b7398_row1_col3 {\n",
       "  background-color: #7e5033;\n",
       "  color: #f1f1f1;\n",
       "}\n",
       "#T_b7398_row1_col4 {\n",
       "  background-color: #784c30;\n",
       "  color: #f1f1f1;\n",
       "}\n",
       "#T_b7398_row1_col7 {\n",
       "  background-color: #8e5a39;\n",
       "  color: #f1f1f1;\n",
       "}\n",
       "#T_b7398_row1_col10, #T_b7398_row1_col12, #T_b7398_row4_col12, #T_b7398_row5_col12, #T_b7398_row6_col2, #T_b7398_row6_col9, #T_b7398_row6_col10, #T_b7398_row7_col6, #T_b7398_row7_col10 {\n",
       "  background-color: #010100;\n",
       "  color: #f1f1f1;\n",
       "}\n",
       "#T_b7398_row3_col0 {\n",
       "  background-color: #150d08;\n",
       "  color: #f1f1f1;\n",
       "}\n",
       "#T_b7398_row3_col3 {\n",
       "  background-color: #543522;\n",
       "  color: #f1f1f1;\n",
       "}\n",
       "#T_b7398_row3_col4 {\n",
       "  background-color: #2e1d12;\n",
       "  color: #f1f1f1;\n",
       "}\n",
       "#T_b7398_row3_col7 {\n",
       "  background-color: #352215;\n",
       "  color: #f1f1f1;\n",
       "}\n",
       "#T_b7398_row4_col0 {\n",
       "  background-color: #291a10;\n",
       "  color: #f1f1f1;\n",
       "}\n",
       "#T_b7398_row4_col3 {\n",
       "  background-color: #70472d;\n",
       "  color: #f1f1f1;\n",
       "}\n",
       "#T_b7398_row4_col4 {\n",
       "  background-color: #623e27;\n",
       "  color: #f1f1f1;\n",
       "}\n",
       "#T_b7398_row4_col7 {\n",
       "  background-color: #7d4f32;\n",
       "  color: #f1f1f1;\n",
       "}\n",
       "#T_b7398_row5_col3 {\n",
       "  background-color: #7c4e32;\n",
       "  color: #f1f1f1;\n",
       "}\n",
       "#T_b7398_row5_col4 {\n",
       "  background-color: #74492f;\n",
       "  color: #f1f1f1;\n",
       "}\n",
       "#T_b7398_row5_col7 {\n",
       "  background-color: #925c3b;\n",
       "  color: #f1f1f1;\n",
       "}\n",
       "#T_b7398_row6_col0 {\n",
       "  background-color: #382316;\n",
       "  color: #f1f1f1;\n",
       "}\n",
       "#T_b7398_row6_col3 {\n",
       "  background-color: #875536;\n",
       "  color: #f1f1f1;\n",
       "}\n",
       "#T_b7398_row6_col4 {\n",
       "  background-color: #895737;\n",
       "  color: #f1f1f1;\n",
       "}\n",
       "#T_b7398_row6_col7 {\n",
       "  background-color: #a16641;\n",
       "  color: #f1f1f1;\n",
       "}\n",
       "#T_b7398_row6_col12, #T_b7398_row7_col2, #T_b7398_row7_col12 {\n",
       "  background-color: #020201;\n",
       "  color: #f1f1f1;\n",
       "}\n",
       "#T_b7398_row7_col0 {\n",
       "  background-color: #492e1d;\n",
       "  color: #f1f1f1;\n",
       "}\n",
       "#T_b7398_row7_col3, #T_b7398_row7_col7 {\n",
       "  background-color: #c97f51;\n",
       "  color: #f1f1f1;\n",
       "}\n",
       "#T_b7398_row7_col9 {\n",
       "  background-color: #060402;\n",
       "  color: #f1f1f1;\n",
       "}\n",
       "#T_b7398_row7_col11 {\n",
       "  background-color: #040201;\n",
       "  color: #f1f1f1;\n",
       "}\n",
       "</style>\n",
       "<table id=\"T_b7398\">\n",
       "  <thead>\n",
       "    <tr>\n",
       "      <th class=\"blank level0\" >&nbsp;</th>\n",
       "      <th id=\"T_b7398_level0_col0\" class=\"col_heading level0 col0\" >age</th>\n",
       "      <th id=\"T_b7398_level0_col1\" class=\"col_heading level0 col1\" >sex</th>\n",
       "      <th id=\"T_b7398_level0_col2\" class=\"col_heading level0 col2\" >cp</th>\n",
       "      <th id=\"T_b7398_level0_col3\" class=\"col_heading level0 col3\" >trtbps</th>\n",
       "      <th id=\"T_b7398_level0_col4\" class=\"col_heading level0 col4\" >chol</th>\n",
       "      <th id=\"T_b7398_level0_col5\" class=\"col_heading level0 col5\" >fbs</th>\n",
       "      <th id=\"T_b7398_level0_col6\" class=\"col_heading level0 col6\" >restecg</th>\n",
       "      <th id=\"T_b7398_level0_col7\" class=\"col_heading level0 col7\" >thalachh</th>\n",
       "      <th id=\"T_b7398_level0_col8\" class=\"col_heading level0 col8\" >exng</th>\n",
       "      <th id=\"T_b7398_level0_col9\" class=\"col_heading level0 col9\" >oldpeak</th>\n",
       "      <th id=\"T_b7398_level0_col10\" class=\"col_heading level0 col10\" >slp</th>\n",
       "      <th id=\"T_b7398_level0_col11\" class=\"col_heading level0 col11\" >caa</th>\n",
       "      <th id=\"T_b7398_level0_col12\" class=\"col_heading level0 col12\" >thall</th>\n",
       "      <th id=\"T_b7398_level0_col13\" class=\"col_heading level0 col13\" >output</th>\n",
       "    </tr>\n",
       "  </thead>\n",
       "  <tbody>\n",
       "    <tr>\n",
       "      <th id=\"T_b7398_level0_row0\" class=\"row_heading level0 row0\" >count</th>\n",
       "      <td id=\"T_b7398_row0_col0\" class=\"data row0 col0\" >303.000000</td>\n",
       "      <td id=\"T_b7398_row0_col1\" class=\"data row0 col1\" >303.000000</td>\n",
       "      <td id=\"T_b7398_row0_col2\" class=\"data row0 col2\" >303.000000</td>\n",
       "      <td id=\"T_b7398_row0_col3\" class=\"data row0 col3\" >303.000000</td>\n",
       "      <td id=\"T_b7398_row0_col4\" class=\"data row0 col4\" >303.000000</td>\n",
       "      <td id=\"T_b7398_row0_col5\" class=\"data row0 col5\" >303.000000</td>\n",
       "      <td id=\"T_b7398_row0_col6\" class=\"data row0 col6\" >303.000000</td>\n",
       "      <td id=\"T_b7398_row0_col7\" class=\"data row0 col7\" >303.000000</td>\n",
       "      <td id=\"T_b7398_row0_col8\" class=\"data row0 col8\" >303.000000</td>\n",
       "      <td id=\"T_b7398_row0_col9\" class=\"data row0 col9\" >303.000000</td>\n",
       "      <td id=\"T_b7398_row0_col10\" class=\"data row0 col10\" >303.000000</td>\n",
       "      <td id=\"T_b7398_row0_col11\" class=\"data row0 col11\" >303.000000</td>\n",
       "      <td id=\"T_b7398_row0_col12\" class=\"data row0 col12\" >303.000000</td>\n",
       "      <td id=\"T_b7398_row0_col13\" class=\"data row0 col13\" >303.000000</td>\n",
       "    </tr>\n",
       "    <tr>\n",
       "      <th id=\"T_b7398_level0_row1\" class=\"row_heading level0 row1\" >mean</th>\n",
       "      <td id=\"T_b7398_row1_col0\" class=\"data row1 col0\" >54.366337</td>\n",
       "      <td id=\"T_b7398_row1_col1\" class=\"data row1 col1\" >0.683168</td>\n",
       "      <td id=\"T_b7398_row1_col2\" class=\"data row1 col2\" >0.966997</td>\n",
       "      <td id=\"T_b7398_row1_col3\" class=\"data row1 col3\" >131.623762</td>\n",
       "      <td id=\"T_b7398_row1_col4\" class=\"data row1 col4\" >246.264026</td>\n",
       "      <td id=\"T_b7398_row1_col5\" class=\"data row1 col5\" >0.148515</td>\n",
       "      <td id=\"T_b7398_row1_col6\" class=\"data row1 col6\" >0.528053</td>\n",
       "      <td id=\"T_b7398_row1_col7\" class=\"data row1 col7\" >149.646865</td>\n",
       "      <td id=\"T_b7398_row1_col8\" class=\"data row1 col8\" >0.326733</td>\n",
       "      <td id=\"T_b7398_row1_col9\" class=\"data row1 col9\" >1.039604</td>\n",
       "      <td id=\"T_b7398_row1_col10\" class=\"data row1 col10\" >1.399340</td>\n",
       "      <td id=\"T_b7398_row1_col11\" class=\"data row1 col11\" >0.729373</td>\n",
       "      <td id=\"T_b7398_row1_col12\" class=\"data row1 col12\" >2.313531</td>\n",
       "      <td id=\"T_b7398_row1_col13\" class=\"data row1 col13\" >0.544554</td>\n",
       "    </tr>\n",
       "    <tr>\n",
       "      <th id=\"T_b7398_level0_row2\" class=\"row_heading level0 row2\" >std</th>\n",
       "      <td id=\"T_b7398_row2_col0\" class=\"data row2 col0\" >9.082101</td>\n",
       "      <td id=\"T_b7398_row2_col1\" class=\"data row2 col1\" >0.466011</td>\n",
       "      <td id=\"T_b7398_row2_col2\" class=\"data row2 col2\" >1.032052</td>\n",
       "      <td id=\"T_b7398_row2_col3\" class=\"data row2 col3\" >17.538143</td>\n",
       "      <td id=\"T_b7398_row2_col4\" class=\"data row2 col4\" >51.830751</td>\n",
       "      <td id=\"T_b7398_row2_col5\" class=\"data row2 col5\" >0.356198</td>\n",
       "      <td id=\"T_b7398_row2_col6\" class=\"data row2 col6\" >0.525860</td>\n",
       "      <td id=\"T_b7398_row2_col7\" class=\"data row2 col7\" >22.905161</td>\n",
       "      <td id=\"T_b7398_row2_col8\" class=\"data row2 col8\" >0.469794</td>\n",
       "      <td id=\"T_b7398_row2_col9\" class=\"data row2 col9\" >1.161075</td>\n",
       "      <td id=\"T_b7398_row2_col10\" class=\"data row2 col10\" >0.616226</td>\n",
       "      <td id=\"T_b7398_row2_col11\" class=\"data row2 col11\" >1.022606</td>\n",
       "      <td id=\"T_b7398_row2_col12\" class=\"data row2 col12\" >0.612277</td>\n",
       "      <td id=\"T_b7398_row2_col13\" class=\"data row2 col13\" >0.498835</td>\n",
       "    </tr>\n",
       "    <tr>\n",
       "      <th id=\"T_b7398_level0_row3\" class=\"row_heading level0 row3\" >min</th>\n",
       "      <td id=\"T_b7398_row3_col0\" class=\"data row3 col0\" >29.000000</td>\n",
       "      <td id=\"T_b7398_row3_col1\" class=\"data row3 col1\" >0.000000</td>\n",
       "      <td id=\"T_b7398_row3_col2\" class=\"data row3 col2\" >0.000000</td>\n",
       "      <td id=\"T_b7398_row3_col3\" class=\"data row3 col3\" >94.000000</td>\n",
       "      <td id=\"T_b7398_row3_col4\" class=\"data row3 col4\" >126.000000</td>\n",
       "      <td id=\"T_b7398_row3_col5\" class=\"data row3 col5\" >0.000000</td>\n",
       "      <td id=\"T_b7398_row3_col6\" class=\"data row3 col6\" >0.000000</td>\n",
       "      <td id=\"T_b7398_row3_col7\" class=\"data row3 col7\" >71.000000</td>\n",
       "      <td id=\"T_b7398_row3_col8\" class=\"data row3 col8\" >0.000000</td>\n",
       "      <td id=\"T_b7398_row3_col9\" class=\"data row3 col9\" >0.000000</td>\n",
       "      <td id=\"T_b7398_row3_col10\" class=\"data row3 col10\" >0.000000</td>\n",
       "      <td id=\"T_b7398_row3_col11\" class=\"data row3 col11\" >0.000000</td>\n",
       "      <td id=\"T_b7398_row3_col12\" class=\"data row3 col12\" >0.000000</td>\n",
       "      <td id=\"T_b7398_row3_col13\" class=\"data row3 col13\" >0.000000</td>\n",
       "    </tr>\n",
       "    <tr>\n",
       "      <th id=\"T_b7398_level0_row4\" class=\"row_heading level0 row4\" >25%</th>\n",
       "      <td id=\"T_b7398_row4_col0\" class=\"data row4 col0\" >47.500000</td>\n",
       "      <td id=\"T_b7398_row4_col1\" class=\"data row4 col1\" >0.000000</td>\n",
       "      <td id=\"T_b7398_row4_col2\" class=\"data row4 col2\" >0.000000</td>\n",
       "      <td id=\"T_b7398_row4_col3\" class=\"data row4 col3\" >120.000000</td>\n",
       "      <td id=\"T_b7398_row4_col4\" class=\"data row4 col4\" >211.000000</td>\n",
       "      <td id=\"T_b7398_row4_col5\" class=\"data row4 col5\" >0.000000</td>\n",
       "      <td id=\"T_b7398_row4_col6\" class=\"data row4 col6\" >0.000000</td>\n",
       "      <td id=\"T_b7398_row4_col7\" class=\"data row4 col7\" >133.500000</td>\n",
       "      <td id=\"T_b7398_row4_col8\" class=\"data row4 col8\" >0.000000</td>\n",
       "      <td id=\"T_b7398_row4_col9\" class=\"data row4 col9\" >0.000000</td>\n",
       "      <td id=\"T_b7398_row4_col10\" class=\"data row4 col10\" >1.000000</td>\n",
       "      <td id=\"T_b7398_row4_col11\" class=\"data row4 col11\" >0.000000</td>\n",
       "      <td id=\"T_b7398_row4_col12\" class=\"data row4 col12\" >2.000000</td>\n",
       "      <td id=\"T_b7398_row4_col13\" class=\"data row4 col13\" >0.000000</td>\n",
       "    </tr>\n",
       "    <tr>\n",
       "      <th id=\"T_b7398_level0_row5\" class=\"row_heading level0 row5\" >50%</th>\n",
       "      <td id=\"T_b7398_row5_col0\" class=\"data row5 col0\" >55.000000</td>\n",
       "      <td id=\"T_b7398_row5_col1\" class=\"data row5 col1\" >1.000000</td>\n",
       "      <td id=\"T_b7398_row5_col2\" class=\"data row5 col2\" >1.000000</td>\n",
       "      <td id=\"T_b7398_row5_col3\" class=\"data row5 col3\" >130.000000</td>\n",
       "      <td id=\"T_b7398_row5_col4\" class=\"data row5 col4\" >240.000000</td>\n",
       "      <td id=\"T_b7398_row5_col5\" class=\"data row5 col5\" >0.000000</td>\n",
       "      <td id=\"T_b7398_row5_col6\" class=\"data row5 col6\" >1.000000</td>\n",
       "      <td id=\"T_b7398_row5_col7\" class=\"data row5 col7\" >153.000000</td>\n",
       "      <td id=\"T_b7398_row5_col8\" class=\"data row5 col8\" >0.000000</td>\n",
       "      <td id=\"T_b7398_row5_col9\" class=\"data row5 col9\" >0.800000</td>\n",
       "      <td id=\"T_b7398_row5_col10\" class=\"data row5 col10\" >1.000000</td>\n",
       "      <td id=\"T_b7398_row5_col11\" class=\"data row5 col11\" >0.000000</td>\n",
       "      <td id=\"T_b7398_row5_col12\" class=\"data row5 col12\" >2.000000</td>\n",
       "      <td id=\"T_b7398_row5_col13\" class=\"data row5 col13\" >1.000000</td>\n",
       "    </tr>\n",
       "    <tr>\n",
       "      <th id=\"T_b7398_level0_row6\" class=\"row_heading level0 row6\" >75%</th>\n",
       "      <td id=\"T_b7398_row6_col0\" class=\"data row6 col0\" >61.000000</td>\n",
       "      <td id=\"T_b7398_row6_col1\" class=\"data row6 col1\" >1.000000</td>\n",
       "      <td id=\"T_b7398_row6_col2\" class=\"data row6 col2\" >2.000000</td>\n",
       "      <td id=\"T_b7398_row6_col3\" class=\"data row6 col3\" >140.000000</td>\n",
       "      <td id=\"T_b7398_row6_col4\" class=\"data row6 col4\" >274.500000</td>\n",
       "      <td id=\"T_b7398_row6_col5\" class=\"data row6 col5\" >0.000000</td>\n",
       "      <td id=\"T_b7398_row6_col6\" class=\"data row6 col6\" >1.000000</td>\n",
       "      <td id=\"T_b7398_row6_col7\" class=\"data row6 col7\" >166.000000</td>\n",
       "      <td id=\"T_b7398_row6_col8\" class=\"data row6 col8\" >1.000000</td>\n",
       "      <td id=\"T_b7398_row6_col9\" class=\"data row6 col9\" >1.600000</td>\n",
       "      <td id=\"T_b7398_row6_col10\" class=\"data row6 col10\" >2.000000</td>\n",
       "      <td id=\"T_b7398_row6_col11\" class=\"data row6 col11\" >1.000000</td>\n",
       "      <td id=\"T_b7398_row6_col12\" class=\"data row6 col12\" >3.000000</td>\n",
       "      <td id=\"T_b7398_row6_col13\" class=\"data row6 col13\" >1.000000</td>\n",
       "    </tr>\n",
       "    <tr>\n",
       "      <th id=\"T_b7398_level0_row7\" class=\"row_heading level0 row7\" >max</th>\n",
       "      <td id=\"T_b7398_row7_col0\" class=\"data row7 col0\" >77.000000</td>\n",
       "      <td id=\"T_b7398_row7_col1\" class=\"data row7 col1\" >1.000000</td>\n",
       "      <td id=\"T_b7398_row7_col2\" class=\"data row7 col2\" >3.000000</td>\n",
       "      <td id=\"T_b7398_row7_col3\" class=\"data row7 col3\" >200.000000</td>\n",
       "      <td id=\"T_b7398_row7_col4\" class=\"data row7 col4\" >564.000000</td>\n",
       "      <td id=\"T_b7398_row7_col5\" class=\"data row7 col5\" >1.000000</td>\n",
       "      <td id=\"T_b7398_row7_col6\" class=\"data row7 col6\" >2.000000</td>\n",
       "      <td id=\"T_b7398_row7_col7\" class=\"data row7 col7\" >202.000000</td>\n",
       "      <td id=\"T_b7398_row7_col8\" class=\"data row7 col8\" >1.000000</td>\n",
       "      <td id=\"T_b7398_row7_col9\" class=\"data row7 col9\" >6.200000</td>\n",
       "      <td id=\"T_b7398_row7_col10\" class=\"data row7 col10\" >2.000000</td>\n",
       "      <td id=\"T_b7398_row7_col11\" class=\"data row7 col11\" >4.000000</td>\n",
       "      <td id=\"T_b7398_row7_col12\" class=\"data row7 col12\" >3.000000</td>\n",
       "      <td id=\"T_b7398_row7_col13\" class=\"data row7 col13\" >1.000000</td>\n",
       "    </tr>\n",
       "  </tbody>\n",
       "</table>\n"
      ],
      "text/plain": [
       "<pandas.io.formats.style.Styler at 0x1a7584008e0>"
      ]
     },
     "execution_count": 61,
     "metadata": {},
     "output_type": "execute_result"
    }
   ],
   "source": [
    "df.describe().style.background_gradient(cmap = 'copper')"
   ]
  },
  {
   "cell_type": "code",
   "execution_count": 62,
   "metadata": {},
   "outputs": [
    {
     "data": {
      "text/plain": [
       "age         303\n",
       "sex         303\n",
       "cp          303\n",
       "trtbps      303\n",
       "chol        303\n",
       "fbs         303\n",
       "restecg     303\n",
       "thalachh    303\n",
       "exng        303\n",
       "oldpeak     303\n",
       "slp         303\n",
       "caa         303\n",
       "thall       303\n",
       "output      303\n",
       "dtype: int64"
      ]
     },
     "execution_count": 62,
     "metadata": {},
     "output_type": "execute_result"
    }
   ],
   "source": [
    "df.isna().count()"
   ]
  },
  {
   "cell_type": "code",
   "execution_count": 63,
   "metadata": {},
   "outputs": [
    {
     "name": "stdout",
     "output_type": "stream",
     "text": [
      "Duplicate Rows Count :  1\n"
     ]
    }
   ],
   "source": [
    "# Removing duplicate rows\n",
    "\n",
    "print('Duplicate Rows Count : ', df.duplicated().sum())\n",
    "\n",
    "df=df.drop_duplicates(keep=\"first\")"
   ]
  },
  {
   "cell_type": "code",
   "execution_count": 64,
   "metadata": {},
   "outputs": [
    {
     "data": {
      "text/plain": [
       "age          41\n",
       "sex           2\n",
       "cp            4\n",
       "trtbps       49\n",
       "chol        152\n",
       "fbs           2\n",
       "restecg       3\n",
       "thalachh     91\n",
       "exng          2\n",
       "oldpeak      40\n",
       "slp           3\n",
       "caa           5\n",
       "thall         4\n",
       "output        2\n",
       "dtype: int64"
      ]
     },
     "execution_count": 64,
     "metadata": {},
     "output_type": "execute_result"
    }
   ],
   "source": [
    "df.select_dtypes('number').apply(pd.Series.nunique, axis = 0)"
   ]
  },
  {
   "cell_type": "markdown",
   "metadata": {},
   "source": [
    "There's no missing value on the data set, which is great.\n",
    "\n",
    "Based on the number of unique values for each column,\n",
    "\n",
    "\n",
    "I'll assume that the categorial variables are the ones with few unique values and the continuous are with a lot of values."
   ]
  },
  {
   "cell_type": "code",
   "execution_count": 65,
   "metadata": {},
   "outputs": [],
   "source": [
    "cat_list = ['sex','exng', 'caa', 'cp', 'fbs', 'restecg', 'slp', 'thall']\n",
    "con_list = ['age', 'trtbps', 'chol', 'thalachh', 'oldpeak']"
   ]
  },
  {
   "cell_type": "code",
   "execution_count": 66,
   "metadata": {},
   "outputs": [
    {
     "data": {
      "image/png": "[encoded data removed]",
      "text/plain": [
       "<Figure size 1080x1080 with 8 Axes>"
      ]
     },
     "metadata": {
      "needs_background": "light"
     },
     "output_type": "display_data"
    }
   ],
   "source": [
    "# Countplot of categorial variables\n",
    "fig = plt.figure(figsize=(15,15))\n",
    "for i, col in enumerate(cat_list):\n",
    "    axi = plt.subplot(2, 4, i+1)\n",
    "    sns.countplot(ax=axi, data=df, x=col).set_title(col)\n",
    "    axi.set_xlabel('')\n",
    "    axi.set_ylabel('')"
   ]
  },
  {
   "cell_type": "code",
   "execution_count": 67,
   "metadata": {},
   "outputs": [
    {
     "data": {
      "image/png": "[encoded data removed]",
      "text/plain": [
       "<Figure size 576x1080 with 5 Axes>"
      ]
     },
     "metadata": {
      "needs_background": "light"
     },
     "output_type": "display_data"
    }
   ],
   "source": [
    "# Boxplot of continuos variable\n",
    "fig = plt.figure(figsize=(8,15))\n",
    "for i, col in enumerate(con_list):\n",
    "    axi = plt.subplot(3, 2, i+1)\n",
    "    sns.boxenplot(ax=axi, y=df[col]).set_title(col)\n",
    "    axi.set_ylabel('')"
   ]
  },
  {
   "cell_type": "code",
   "execution_count": 68,
   "metadata": {},
   "outputs": [
    {
     "data": {
      "text/plain": [
       "[Text(0, 0, 'low proness'), Text(1, 0, 'high proness')]"
      ]
     },
     "execution_count": 68,
     "metadata": {},
     "output_type": "execute_result"
    },
    {
     "data": {
      "image/png": "[encoded data removed]",
      "text/plain": [
       "<Figure size 360x360 with 1 Axes>"
      ]
     },
     "metadata": {
      "needs_background": "light"
     },
     "output_type": "display_data"
    }
   ],
   "source": [
    "# Plot total \n",
    "fig = plt.figure(figsize=(5,5))\n",
    "ax = sns.countplot(data=df, x='output')\n",
    "ax.set_xlabel('')\n",
    "ax.set_xticklabels(['low proness', 'high proness'])"
   ]
  },
  {
   "cell_type": "code",
   "execution_count": 69,
   "metadata": {},
   "outputs": [
    {
     "data": {
      "image/png": "[encoded data removed]",
      "text/plain": [
       "<Figure size 402.375x360 with 1 Axes>"
      ]
     },
     "metadata": {
      "needs_background": "light"
     },
     "output_type": "display_data"
    }
   ],
   "source": [
    "# Plot the histogram based on age and output value\n",
    "ax=sns.displot(data=df, x='age', hue='output', kde=True)"
   ]
  },
  {
   "cell_type": "code",
   "execution_count": 70,
   "metadata": {},
   "outputs": [
    {
     "data": {
      "text/plain": [
       "[Text(0, 0, 'sex 0'), Text(1, 0, 'sex 1')]"
      ]
     },
     "execution_count": 70,
     "metadata": {},
     "output_type": "execute_result"
    },
    {
     "data": {
      "image/png": "[encoded data removed]",
      "text/plain": [
       "<Figure size 432x288 with 1 Axes>"
      ]
     },
     "metadata": {
      "needs_background": "light"
     },
     "output_type": "display_data"
    }
   ],
   "source": [
    "ax=sns.countplot(data=df, x='sex', hue='output')\n",
    "ax.set_xlabel('')\n",
    "ax.set_xticklabels(['sex 0', 'sex 1'])"
   ]
  },
  {
   "cell_type": "markdown",
   "metadata": {},
   "source": [
    "There are more people prone to heart attack.\n",
    "\n",
    "It's seems like people below the age around 55 are more prone to a heart attack compared to people above 55.\n",
    "\n",
    "The heart attack proness peak is around the age of 45.\n",
    "\n",
    "People of sex 0 are 4 times, approximately, more prone to a heart attack."
   ]
  },
  {
   "cell_type": "code",
   "execution_count": 71,
   "metadata": {},
   "outputs": [
    {
     "data": {
      "image/png": "[encoded data removed]",
      "text/plain": [
       "<Figure size 402.375x360 with 1 Axes>"
      ]
     },
     "metadata": {
      "needs_background": "light"
     },
     "output_type": "display_data"
    },
    {
     "data": {
      "image/png": "[encoded data removed]",
      "text/plain": [
       "<Figure size 402.375x360 with 1 Axes>"
      ]
     },
     "metadata": {
      "needs_background": "light"
     },
     "output_type": "display_data"
    },
    {
     "data": {
      "image/png": "[encoded data removed]",
      "text/plain": [
       "<Figure size 402.375x360 with 1 Axes>"
      ]
     },
     "metadata": {
      "needs_background": "light"
     },
     "output_type": "display_data"
    },
    {
     "data": {
      "image/png": "[encoded data removed]",
      "text/plain": [
       "<Figure size 402.375x360 with 1 Axes>"
      ]
     },
     "metadata": {
      "needs_background": "light"
     },
     "output_type": "display_data"
    }
   ],
   "source": [
    "# More distribuitions\n",
    "for i, col in enumerate(con_list[1::]):\n",
    "    axi = sns.displot(data=df, x=col, hue='output', kde=True)"
   ]
  },
  {
   "cell_type": "markdown",
   "metadata": {},
   "source": [
    "People with higher thalachh are more prone to a heart attack.\n",
    "\n",
    "People with lower oldpeak are more prone to a heart attack.\n",
    "\n",
    "Now, let's look at the correlation between variables and plot the heatmap."
   ]
  },
  {
   "cell_type": "code",
   "execution_count": 72,
   "metadata": {},
   "outputs": [
    {
     "data": {
      "image/png": "[encoded data removed]",
      "text/plain": [
       "<Figure size 864x432 with 2 Axes>"
      ]
     },
     "metadata": {
      "needs_background": "light"
     },
     "output_type": "display_data"
    }
   ],
   "source": [
    "# Checking for multicolinearity \n",
    "plt.figure(figsize=(12,6))\n",
    "df2 = df.drop('output',axis=1)\n",
    "corr = df2.corr()\n",
    "matrix =  np.triu(np.ones_like(corr))\n",
    "\n",
    "sns.heatmap(corr,annot=True,mask=matrix,cmap='RdPu')\n",
    "plt.title('Correlation Map')\n",
    "plt.show()"
   ]
  },
  {
   "cell_type": "code",
   "execution_count": 73,
   "metadata": {},
   "outputs": [],
   "source": [
    "#Highly correlated features:\n",
    "cols = ['slp','thalachh','oldpeak']"
   ]
  },
  {
   "cell_type": "code",
   "execution_count": 74,
   "metadata": {},
   "outputs": [
    {
     "data": {
      "text/html": [
       "<div>\n",
       "<style scoped>\n",
       "    .dataframe tbody tr th:only-of-type {\n",
       "        vertical-align: middle;\n",
       "    }\n",
       "\n",
       "    .dataframe tbody tr th {\n",
       "        vertical-align: top;\n",
       "    }\n",
       "\n",
       "    .dataframe thead th {\n",
       "        text-align: right;\n",
       "    }\n",
       "</style>\n",
       "<table border=\"1\" class=\"dataframe\">\n",
       "  <thead>\n",
       "    <tr style=\"text-align: right;\">\n",
       "      <th></th>\n",
       "      <th>age</th>\n",
       "      <th>sex</th>\n",
       "      <th>cp</th>\n",
       "      <th>trtbps</th>\n",
       "      <th>chol</th>\n",
       "      <th>fbs</th>\n",
       "      <th>restecg</th>\n",
       "      <th>thalachh</th>\n",
       "      <th>exng</th>\n",
       "      <th>oldpeak</th>\n",
       "      <th>slp</th>\n",
       "      <th>caa</th>\n",
       "      <th>thall</th>\n",
       "      <th>output</th>\n",
       "    </tr>\n",
       "  </thead>\n",
       "  <tbody>\n",
       "    <tr>\n",
       "      <th>age</th>\n",
       "      <td>1.000000</td>\n",
       "      <td>-0.094962</td>\n",
       "      <td>-0.063107</td>\n",
       "      <td>0.283121</td>\n",
       "      <td>0.207216</td>\n",
       "      <td>0.119492</td>\n",
       "      <td>-0.111590</td>\n",
       "      <td>-0.395235</td>\n",
       "      <td>0.093216</td>\n",
       "      <td>0.206040</td>\n",
       "      <td>-0.164124</td>\n",
       "      <td>0.302261</td>\n",
       "      <td>0.065317</td>\n",
       "      <td>-0.221476</td>\n",
       "    </tr>\n",
       "    <tr>\n",
       "      <th>sex</th>\n",
       "      <td>-0.094962</td>\n",
       "      <td>1.000000</td>\n",
       "      <td>-0.051740</td>\n",
       "      <td>-0.057647</td>\n",
       "      <td>-0.195571</td>\n",
       "      <td>0.046022</td>\n",
       "      <td>-0.060351</td>\n",
       "      <td>-0.046439</td>\n",
       "      <td>0.143460</td>\n",
       "      <td>0.098322</td>\n",
       "      <td>-0.032990</td>\n",
       "      <td>0.113060</td>\n",
       "      <td>0.211452</td>\n",
       "      <td>-0.283609</td>\n",
       "    </tr>\n",
       "    <tr>\n",
       "      <th>cp</th>\n",
       "      <td>-0.063107</td>\n",
       "      <td>-0.051740</td>\n",
       "      <td>1.000000</td>\n",
       "      <td>0.046486</td>\n",
       "      <td>-0.072682</td>\n",
       "      <td>0.096018</td>\n",
       "      <td>0.041561</td>\n",
       "      <td>0.293367</td>\n",
       "      <td>-0.392937</td>\n",
       "      <td>-0.146692</td>\n",
       "      <td>0.116854</td>\n",
       "      <td>-0.195356</td>\n",
       "      <td>-0.160370</td>\n",
       "      <td>0.432080</td>\n",
       "    </tr>\n",
       "    <tr>\n",
       "      <th>trtbps</th>\n",
       "      <td>0.283121</td>\n",
       "      <td>-0.057647</td>\n",
       "      <td>0.046486</td>\n",
       "      <td>1.000000</td>\n",
       "      <td>0.125256</td>\n",
       "      <td>0.178125</td>\n",
       "      <td>-0.115367</td>\n",
       "      <td>-0.048023</td>\n",
       "      <td>0.068526</td>\n",
       "      <td>0.194600</td>\n",
       "      <td>-0.122873</td>\n",
       "      <td>0.099248</td>\n",
       "      <td>0.062870</td>\n",
       "      <td>-0.146269</td>\n",
       "    </tr>\n",
       "    <tr>\n",
       "      <th>chol</th>\n",
       "      <td>0.207216</td>\n",
       "      <td>-0.195571</td>\n",
       "      <td>-0.072682</td>\n",
       "      <td>0.125256</td>\n",
       "      <td>1.000000</td>\n",
       "      <td>0.011428</td>\n",
       "      <td>-0.147602</td>\n",
       "      <td>-0.005308</td>\n",
       "      <td>0.064099</td>\n",
       "      <td>0.050086</td>\n",
       "      <td>0.000417</td>\n",
       "      <td>0.086878</td>\n",
       "      <td>0.096810</td>\n",
       "      <td>-0.081437</td>\n",
       "    </tr>\n",
       "    <tr>\n",
       "      <th>fbs</th>\n",
       "      <td>0.119492</td>\n",
       "      <td>0.046022</td>\n",
       "      <td>0.096018</td>\n",
       "      <td>0.178125</td>\n",
       "      <td>0.011428</td>\n",
       "      <td>1.000000</td>\n",
       "      <td>-0.083081</td>\n",
       "      <td>-0.007169</td>\n",
       "      <td>0.024729</td>\n",
       "      <td>0.004514</td>\n",
       "      <td>-0.058654</td>\n",
       "      <td>0.144935</td>\n",
       "      <td>-0.032752</td>\n",
       "      <td>-0.026826</td>\n",
       "    </tr>\n",
       "    <tr>\n",
       "      <th>restecg</th>\n",
       "      <td>-0.111590</td>\n",
       "      <td>-0.060351</td>\n",
       "      <td>0.041561</td>\n",
       "      <td>-0.115367</td>\n",
       "      <td>-0.147602</td>\n",
       "      <td>-0.083081</td>\n",
       "      <td>1.000000</td>\n",
       "      <td>0.041210</td>\n",
       "      <td>-0.068807</td>\n",
       "      <td>-0.056251</td>\n",
       "      <td>0.090402</td>\n",
       "      <td>-0.083112</td>\n",
       "      <td>-0.010473</td>\n",
       "      <td>0.134874</td>\n",
       "    </tr>\n",
       "    <tr>\n",
       "      <th>thalachh</th>\n",
       "      <td>-0.395235</td>\n",
       "      <td>-0.046439</td>\n",
       "      <td>0.293367</td>\n",
       "      <td>-0.048023</td>\n",
       "      <td>-0.005308</td>\n",
       "      <td>-0.007169</td>\n",
       "      <td>0.041210</td>\n",
       "      <td>1.000000</td>\n",
       "      <td>-0.377411</td>\n",
       "      <td>-0.342201</td>\n",
       "      <td>0.384754</td>\n",
       "      <td>-0.228311</td>\n",
       "      <td>-0.094910</td>\n",
       "      <td>0.419955</td>\n",
       "    </tr>\n",
       "    <tr>\n",
       "      <th>exng</th>\n",
       "      <td>0.093216</td>\n",
       "      <td>0.143460</td>\n",
       "      <td>-0.392937</td>\n",
       "      <td>0.068526</td>\n",
       "      <td>0.064099</td>\n",
       "      <td>0.024729</td>\n",
       "      <td>-0.068807</td>\n",
       "      <td>-0.377411</td>\n",
       "      <td>1.000000</td>\n",
       "      <td>0.286766</td>\n",
       "      <td>-0.256106</td>\n",
       "      <td>0.125377</td>\n",
       "      <td>0.205826</td>\n",
       "      <td>-0.435601</td>\n",
       "    </tr>\n",
       "    <tr>\n",
       "      <th>oldpeak</th>\n",
       "      <td>0.206040</td>\n",
       "      <td>0.098322</td>\n",
       "      <td>-0.146692</td>\n",
       "      <td>0.194600</td>\n",
       "      <td>0.050086</td>\n",
       "      <td>0.004514</td>\n",
       "      <td>-0.056251</td>\n",
       "      <td>-0.342201</td>\n",
       "      <td>0.286766</td>\n",
       "      <td>1.000000</td>\n",
       "      <td>-0.576314</td>\n",
       "      <td>0.236560</td>\n",
       "      <td>0.209090</td>\n",
       "      <td>-0.429146</td>\n",
       "    </tr>\n",
       "    <tr>\n",
       "      <th>slp</th>\n",
       "      <td>-0.164124</td>\n",
       "      <td>-0.032990</td>\n",
       "      <td>0.116854</td>\n",
       "      <td>-0.122873</td>\n",
       "      <td>0.000417</td>\n",
       "      <td>-0.058654</td>\n",
       "      <td>0.090402</td>\n",
       "      <td>0.384754</td>\n",
       "      <td>-0.256106</td>\n",
       "      <td>-0.576314</td>\n",
       "      <td>1.000000</td>\n",
       "      <td>-0.092236</td>\n",
       "      <td>-0.103314</td>\n",
       "      <td>0.343940</td>\n",
       "    </tr>\n",
       "    <tr>\n",
       "      <th>caa</th>\n",
       "      <td>0.302261</td>\n",
       "      <td>0.113060</td>\n",
       "      <td>-0.195356</td>\n",
       "      <td>0.099248</td>\n",
       "      <td>0.086878</td>\n",
       "      <td>0.144935</td>\n",
       "      <td>-0.083112</td>\n",
       "      <td>-0.228311</td>\n",
       "      <td>0.125377</td>\n",
       "      <td>0.236560</td>\n",
       "      <td>-0.092236</td>\n",
       "      <td>1.000000</td>\n",
       "      <td>0.160085</td>\n",
       "      <td>-0.408992</td>\n",
       "    </tr>\n",
       "    <tr>\n",
       "      <th>thall</th>\n",
       "      <td>0.065317</td>\n",
       "      <td>0.211452</td>\n",
       "      <td>-0.160370</td>\n",
       "      <td>0.062870</td>\n",
       "      <td>0.096810</td>\n",
       "      <td>-0.032752</td>\n",
       "      <td>-0.010473</td>\n",
       "      <td>-0.094910</td>\n",
       "      <td>0.205826</td>\n",
       "      <td>0.209090</td>\n",
       "      <td>-0.103314</td>\n",
       "      <td>0.160085</td>\n",
       "      <td>1.000000</td>\n",
       "      <td>-0.343101</td>\n",
       "    </tr>\n",
       "    <tr>\n",
       "      <th>output</th>\n",
       "      <td>-0.221476</td>\n",
       "      <td>-0.283609</td>\n",
       "      <td>0.432080</td>\n",
       "      <td>-0.146269</td>\n",
       "      <td>-0.081437</td>\n",
       "      <td>-0.026826</td>\n",
       "      <td>0.134874</td>\n",
       "      <td>0.419955</td>\n",
       "      <td>-0.435601</td>\n",
       "      <td>-0.429146</td>\n",
       "      <td>0.343940</td>\n",
       "      <td>-0.408992</td>\n",
       "      <td>-0.343101</td>\n",
       "      <td>1.000000</td>\n",
       "    </tr>\n",
       "  </tbody>\n",
       "</table>\n",
       "</div>"
      ],
      "text/plain": [
       "               age       sex        cp    trtbps      chol       fbs  \\\n",
       "age       1.000000 -0.094962 -0.063107  0.283121  0.207216  0.119492   \n",
       "sex      -0.094962  1.000000 -0.051740 -0.057647 -0.195571  0.046022   \n",
       "cp       -0.063107 -0.051740  1.000000  0.046486 -0.072682  0.096018   \n",
       "trtbps    0.283121 -0.057647  0.046486  1.000000  0.125256  0.178125   \n",
       "chol      0.207216 -0.195571 -0.072682  0.125256  1.000000  0.011428   \n",
       "fbs       0.119492  0.046022  0.096018  0.178125  0.011428  1.000000   \n",
       "restecg  -0.111590 -0.060351  0.041561 -0.115367 -0.147602 -0.083081   \n",
       "thalachh -0.395235 -0.046439  0.293367 -0.048023 -0.005308 -0.007169   \n",
       "exng      0.093216  0.143460 -0.392937  0.068526  0.064099  0.024729   \n",
       "oldpeak   0.206040  0.098322 -0.146692  0.194600  0.050086  0.004514   \n",
       "slp      -0.164124 -0.032990  0.116854 -0.122873  0.000417 -0.058654   \n",
       "caa       0.302261  0.113060 -0.195356  0.099248  0.086878  0.144935   \n",
       "thall     0.065317  0.211452 -0.160370  0.062870  0.096810 -0.032752   \n",
       "output   -0.221476 -0.283609  0.432080 -0.146269 -0.081437 -0.026826   \n",
       "\n",
       "           restecg  thalachh      exng   oldpeak       slp       caa  \\\n",
       "age      -0.111590 -0.395235  0.093216  0.206040 -0.164124  0.302261   \n",
       "sex      -0.060351 -0.046439  0.143460  0.098322 -0.032990  0.113060   \n",
       "cp        0.041561  0.293367 -0.392937 -0.146692  0.116854 -0.195356   \n",
       "trtbps   -0.115367 -0.048023  0.068526  0.194600 -0.122873  0.099248   \n",
       "chol     -0.147602 -0.005308  0.064099  0.050086  0.000417  0.086878   \n",
       "fbs      -0.083081 -0.007169  0.024729  0.004514 -0.058654  0.144935   \n",
       "restecg   1.000000  0.041210 -0.068807 -0.056251  0.090402 -0.083112   \n",
       "thalachh  0.041210  1.000000 -0.377411 -0.342201  0.384754 -0.228311   \n",
       "exng     -0.068807 -0.377411  1.000000  0.286766 -0.256106  0.125377   \n",
       "oldpeak  -0.056251 -0.342201  0.286766  1.000000 -0.576314  0.236560   \n",
       "slp       0.090402  0.384754 -0.256106 -0.576314  1.000000 -0.092236   \n",
       "caa      -0.083112 -0.228311  0.125377  0.236560 -0.092236  1.000000   \n",
       "thall    -0.010473 -0.094910  0.205826  0.209090 -0.103314  0.160085   \n",
       "output    0.134874  0.419955 -0.435601 -0.429146  0.343940 -0.408992   \n",
       "\n",
       "             thall    output  \n",
       "age       0.065317 -0.221476  \n",
       "sex       0.211452 -0.283609  \n",
       "cp       -0.160370  0.432080  \n",
       "trtbps    0.062870 -0.146269  \n",
       "chol      0.096810 -0.081437  \n",
       "fbs      -0.032752 -0.026826  \n",
       "restecg  -0.010473  0.134874  \n",
       "thalachh -0.094910  0.419955  \n",
       "exng      0.205826 -0.435601  \n",
       "oldpeak   0.209090 -0.429146  \n",
       "slp      -0.103314  0.343940  \n",
       "caa       0.160085 -0.408992  \n",
       "thall     1.000000 -0.343101  \n",
       "output   -0.343101  1.000000  "
      ]
     },
     "execution_count": 74,
     "metadata": {},
     "output_type": "execute_result"
    }
   ],
   "source": [
    "df.corr()"
   ]
  },
  {
   "cell_type": "code",
   "execution_count": 75,
   "metadata": {},
   "outputs": [],
   "source": [
    "X = df.drop('output', axis=1)\n",
    "Y = df['output']"
   ]
  },
  {
   "cell_type": "code",
   "execution_count": 76,
   "metadata": {},
   "outputs": [
    {
     "name": "stdout",
     "output_type": "stream",
     "text": [
      "Shape of X (302, 13)\n",
      "Shape of y (302,)\n"
     ]
    }
   ],
   "source": [
    "print(\"Shape of X\",X.shape)\n",
    "print(\"Shape of y\",Y.shape)"
   ]
  },
  {
   "cell_type": "code",
   "execution_count": 77,
   "metadata": {},
   "outputs": [],
   "source": [
    "from sklearn.model_selection import train_test_split"
   ]
  },
  {
   "cell_type": "code",
   "execution_count": 78,
   "metadata": {},
   "outputs": [],
   "source": [
    "# Split the data to train and test data\n",
    "X_train, X_test, y_train, y_test = train_test_split(X, Y, test_size=0.1, random_state=1)"
   ]
  },
  {
   "cell_type": "code",
   "execution_count": 79,
   "metadata": {},
   "outputs": [
    {
     "name": "stdout",
     "output_type": "stream",
     "text": [
      "Shape of the data after making split: (271, 13)\n",
      "Shape of the data after making split: (31, 13)\n"
     ]
    }
   ],
   "source": [
    "print(\"Shape of the data after making split:\",X_train.shape)\n",
    "print(\"Shape of the data after making split:\",X_test.shape)"
   ]
  },
  {
   "cell_type": "markdown",
   "metadata": {},
   "source": [
    "# Using logistic regression"
   ]
  },
  {
   "cell_type": "code",
   "execution_count": 80,
   "metadata": {},
   "outputs": [],
   "source": [
    "from sklearn.linear_model import LogisticRegression\n",
    "from sklearn import metrics"
   ]
  },
  {
   "cell_type": "code",
   "execution_count": 81,
   "metadata": {},
   "outputs": [
    {
     "name": "stderr",
     "output_type": "stream",
     "text": [
      "C:\\Users\\admin\\anaconda3\\lib\\site-packages\\sklearn\\linear_model\\_logistic.py:762: ConvergenceWarning: lbfgs failed to converge (status=1):\n",
      "STOP: TOTAL NO. of ITERATIONS REACHED LIMIT.\n",
      "\n",
      "Increase the number of iterations (max_iter) or scale the data as shown in:\n",
      "    https://scikit-learn.org/stable/modules/preprocessing.html\n",
      "Please also refer to the documentation for alternative solver options:\n",
      "    https://scikit-learn.org/stable/modules/linear_model.html#logistic-regression\n",
      "  n_iter_i = _check_optimize_result(\n"
     ]
    },
    {
     "data": {
      "text/plain": [
       "LogisticRegression()"
      ]
     },
     "execution_count": 81,
     "metadata": {},
     "output_type": "execute_result"
    }
   ],
   "source": [
    "logreg = LogisticRegression()\n",
    "logreg.fit(X_train, y_train)"
   ]
  },
  {
   "cell_type": "code",
   "execution_count": 100,
   "metadata": {},
   "outputs": [],
   "source": [
    "# Saving model to disk\n",
    "_pickle.dump(logreg, open('model.pkl','wb'))"
   ]
  },
  {
   "cell_type": "code",
   "execution_count": 85,
   "metadata": {},
   "outputs": [],
   "source": [
    "y_pred = logreg.predict(X_test)"
   ]
  },
  {
   "cell_type": "code",
   "execution_count": 86,
   "metadata": {},
   "outputs": [
    {
     "name": "stdout",
     "output_type": "stream",
     "text": [
      "Accuracy of logistic regression classifier on test set: 0.81\n"
     ]
    }
   ],
   "source": [
    "y_pred = logreg.predict(X_test)\n",
    "print('Accuracy of logistic regression classifier on test set: {:.2f}'.format(logreg.score(X_test, y_test)))"
   ]
  },
  {
   "cell_type": "code",
   "execution_count": 87,
   "metadata": {},
   "outputs": [],
   "source": [
    "#  Confusion Matrix\n",
    "from sklearn.metrics import confusion_matrix\n",
    "cm1 = confusion_matrix(y_test, y_pred)"
   ]
  },
  {
   "cell_type": "code",
   "execution_count": 88,
   "metadata": {},
   "outputs": [
    {
     "data": {
      "image/png": "[encoded data removed]",
      "text/plain": [
       "<Figure size 432x288 with 2 Axes>"
      ]
     },
     "metadata": {
      "needs_background": "light"
     },
     "output_type": "display_data"
    }
   ],
   "source": [
    "from sklearn.metrics import confusion_matrix, ConfusionMatrixDisplay\n",
    "disp = ConfusionMatrixDisplay(confusion_matrix=cm1,display_labels=logreg.classes_)\n",
    "disp.plot()\n",
    "plt.show()"
   ]
  },
  {
   "cell_type": "code",
   "execution_count": 89,
   "metadata": {},
   "outputs": [
    {
     "name": "stdout",
     "output_type": "stream",
     "text": [
      "              precision    recall  f1-score   support\n",
      "\n",
      "           0       0.80      0.67      0.73        12\n",
      "           1       0.81      0.89      0.85        19\n",
      "\n",
      "    accuracy                           0.81        31\n",
      "   macro avg       0.80      0.78      0.79        31\n",
      "weighted avg       0.81      0.81      0.80        31\n",
      "\n"
     ]
    }
   ],
   "source": [
    "from sklearn.metrics import classification_report\n",
    "print(classification_report(y_test, y_pred))"
   ]
  },
  {
   "cell_type": "code",
   "execution_count": 90,
   "metadata": {},
   "outputs": [
    {
     "data": {
      "image/png": "[encoded data removed]",
      "text/plain": [
       "<Figure size 432x288 with 1 Axes>"
      ]
     },
     "metadata": {
      "needs_background": "light"
     },
     "output_type": "display_data"
    }
   ],
   "source": [
    "from sklearn.metrics import roc_auc_score\n",
    "from sklearn.metrics import roc_curve\n",
    "logit_roc_auc = roc_auc_score(y_test, logreg.predict(X_test))\n",
    "fpr, tpr, thresholds = roc_curve(y_test, logreg.predict_proba(X_test)[:,1])\n",
    "plt.figure()\n",
    "plt.plot(fpr, tpr, label='Logistic Regression (area = %0.2f)' % logit_roc_auc)\n",
    "plt.plot([0, 1], [0, 1],'r--')\n",
    "plt.xlim([0.0, 1.0])\n",
    "plt.ylim([0.0, 1.05])\n",
    "plt.xlabel('False Positive Rate')\n",
    "plt.ylabel('True Positive Rate')\n",
    "plt.title('Heart Attack Analysis')\n",
    "plt.legend(loc=\"lower right\")\n",
    "plt.savefig('Log_ROC')\n",
    "plt.show()"
   ]
  },
  {
   "cell_type": "markdown",
   "metadata": {},
   "source": [
    "# Using DecisionTreeClassifier"
   ]
  },
  {
   "cell_type": "code",
   "execution_count": 91,
   "metadata": {},
   "outputs": [
    {
     "data": {
      "text/plain": [
       "DecisionTreeClassifier(criterion='entropy', random_state=42)"
      ]
     },
     "execution_count": 91,
     "metadata": {},
     "output_type": "execute_result"
    }
   ],
   "source": [
    "# Fitting Decision Tree Classification to the Training set\n",
    "from sklearn.tree import DecisionTreeClassifier\n",
    "classifier = DecisionTreeClassifier(criterion = 'entropy', random_state = 42)\n",
    "classifier.fit(X_train, y_train)"
   ]
  },
  {
   "cell_type": "code",
   "execution_count": 92,
   "metadata": {},
   "outputs": [
    {
     "data": {
      "text/plain": [
       "array([0, 1, 1, 0, 0, 1, 0, 1, 1, 1, 0, 0, 0, 0, 1, 0, 1, 1, 0, 1, 1, 1,\n",
       "       1, 1, 1, 0, 1, 0, 0, 1, 1], dtype=int64)"
      ]
     },
     "execution_count": 92,
     "metadata": {},
     "output_type": "execute_result"
    }
   ],
   "source": [
    "# Predicting the Test set results\n",
    "y_pred = classifier.predict(X_test)\n",
    "y_pred"
   ]
  },
  {
   "cell_type": "code",
   "execution_count": 93,
   "metadata": {},
   "outputs": [
    {
     "name": "stdout",
     "output_type": "stream",
     "text": [
      "model_DT Train Score is :  1.0\n",
      "model_DT Test Score is :  0.7741935483870968\n"
     ]
    }
   ],
   "source": [
    "print('model_DT Train Score is : ' , classifier.score(X_train, y_train))\n",
    "print('model_DT Test Score is : ' , classifier.score(X_test, y_test))"
   ]
  },
  {
   "cell_type": "code",
   "execution_count": 94,
   "metadata": {},
   "outputs": [
    {
     "name": "stdout",
     "output_type": "stream",
     "text": [
      "The Score is:  77.41935483870968\n"
     ]
    }
   ],
   "source": [
    "from sklearn.metrics import accuracy_score\n",
    "print(\"The Score is: \",accuracy_score(y_test , y_pred)*100)"
   ]
  },
  {
   "cell_type": "code",
   "execution_count": 95,
   "metadata": {},
   "outputs": [],
   "source": [
    "#  Confusion Matrix\n",
    "from sklearn.metrics import confusion_matrix\n",
    "cm1 = confusion_matrix(y_test, y_pred)"
   ]
  },
  {
   "cell_type": "code",
   "execution_count": 96,
   "metadata": {},
   "outputs": [
    {
     "data": {
      "image/png": "[encoded data removed]",
      "text/plain": [
       "<Figure size 432x288 with 2 Axes>"
      ]
     },
     "metadata": {
      "needs_background": "light"
     },
     "output_type": "display_data"
    }
   ],
   "source": [
    "from sklearn.metrics import confusion_matrix, ConfusionMatrixDisplay\n",
    "disp = ConfusionMatrixDisplay(confusion_matrix=cm1,display_labels=classifier.classes_)\n",
    "disp.plot()\n",
    "plt.show()"
   ]
  },
  {
   "cell_type": "code",
   "execution_count": 97,
   "metadata": {},
   "outputs": [
    {
     "name": "stdout",
     "output_type": "stream",
     "text": [
      "              precision    recall  f1-score   support\n",
      "\n",
      "           0       0.69      0.75      0.72        12\n",
      "           1       0.83      0.79      0.81        19\n",
      "\n",
      "    accuracy                           0.77        31\n",
      "   macro avg       0.76      0.77      0.77        31\n",
      "weighted avg       0.78      0.77      0.78        31\n",
      "\n"
     ]
    }
   ],
   "source": [
    "from sklearn.metrics import classification_report\n",
    "print(classification_report(y_test, y_pred))"
   ]
  },
  {
   "cell_type": "code",
   "execution_count": 98,
   "metadata": {},
   "outputs": [
    {
     "data": {
      "text/plain": [
       "array([[1., 0.],\n",
       "       [0., 1.],\n",
       "       [0., 1.],\n",
       "       [1., 0.],\n",
       "       [1., 0.],\n",
       "       [0., 1.],\n",
       "       [1., 0.],\n",
       "       [0., 1.],\n",
       "       [0., 1.],\n",
       "       [0., 1.]])"
      ]
     },
     "execution_count": 98,
     "metadata": {},
     "output_type": "execute_result"
    }
   ],
   "source": [
    "#probability of all values\n",
    "pr = classifier.predict_proba(X_test)[0:10,:]\n",
    "pr"
   ]
  },
  {
   "cell_type": "code",
   "execution_count": 99,
   "metadata": {},
   "outputs": [
    {
     "data": {
      "text/plain": [
       "array([1., 0., 0., 1., 1., 0., 1., 0., 0., 0.])"
      ]
     },
     "execution_count": 99,
     "metadata": {},
     "output_type": "execute_result"
    }
   ],
   "source": [
    "#probability of zeros\n",
    "pr = classifier.predict_proba(X_test)[0:10,0]\n",
    "pr"
   ]
  },
  {
   "cell_type": "code",
   "execution_count": 44,
   "metadata": {},
   "outputs": [
    {
     "data": {
      "text/plain": [
       "array([0., 1., 1., 0., 0., 1., 0., 1., 1., 1.])"
      ]
     },
     "execution_count": 44,
     "metadata": {},
     "output_type": "execute_result"
    }
   ],
   "source": [
    "#probability of ones\n",
    "pr = classifier.predict_proba(X_test)[0:10,1]\n",
    "pr"
   ]
  },
  {
   "cell_type": "markdown",
   "metadata": {},
   "source": [
    "# Using RandomForestClassifier"
   ]
  },
  {
   "cell_type": "code",
   "execution_count": 45,
   "metadata": {},
   "outputs": [
    {
     "name": "stdout",
     "output_type": "stream",
     "text": [
      "Fitting 3 folds for each of 432 candidates, totalling 1296 fits\n"
     ]
    },
    {
     "name": "stderr",
     "output_type": "stream",
     "text": [
      "[Parallel(n_jobs=-1)]: Using backend LokyBackend with 8 concurrent workers.\n",
      "[Parallel(n_jobs=-1)]: Done  34 tasks      | elapsed:    6.4s\n",
      "[Parallel(n_jobs=-1)]: Done 184 tasks      | elapsed:   22.8s\n",
      "[Parallel(n_jobs=-1)]: Done 434 tasks      | elapsed:   52.2s\n",
      "[Parallel(n_jobs=-1)]: Done 784 tasks      | elapsed:  1.6min\n",
      "[Parallel(n_jobs=-1)]: Done 1234 tasks      | elapsed:  2.5min\n",
      "[Parallel(n_jobs=-1)]: Done 1296 out of 1296 | elapsed:  2.6min finished\n"
     ]
    }
   ],
   "source": [
    "from sklearn.model_selection import GridSearchCV, KFold, StratifiedKFold\n",
    "from sklearn.ensemble import RandomForestClassifier\n",
    "\n",
    "model = RandomForestClassifier(random_state = 42)\n",
    "rf_grid = [{'n_estimators' : [100, 150, 175, 200],\n",
    "            'max_depth' : [5, 6, 7, 8, 9, 10], \n",
    "            'max_features' : [3, 4, 5],\n",
    "           'min_samples_split':[2,3,4],\n",
    "           'min_samples_leaf':[1,2]}]\n",
    "\n",
    "folds = StratifiedKFold(n_splits = 3)\n",
    "\n",
    "gscv = GridSearchCV(estimator = model, param_grid = rf_grid, cv = folds, scoring = 'roc_auc', return_train_score = True, verbose = 1, n_jobs = -1)\n",
    "\n",
    "rf_fit = gscv.fit(X, Y)"
   ]
  },
  {
   "cell_type": "code",
   "execution_count": 46,
   "metadata": {},
   "outputs": [
    {
     "name": "stdout",
     "output_type": "stream",
     "text": [
      "score : 0.9104035524325379\n"
     ]
    },
    {
     "data": {
      "text/plain": [
       "{'max_depth': 10,\n",
       " 'max_features': 4,\n",
       " 'min_samples_leaf': 2,\n",
       " 'min_samples_split': 2,\n",
       " 'n_estimators': 200}"
      ]
     },
     "execution_count": 46,
     "metadata": {},
     "output_type": "execute_result"
    }
   ],
   "source": [
    "print(\"score : {}\".format(rf_fit.best_score_))\n",
    "rf_fit.best_params_"
   ]
  },
  {
   "cell_type": "code",
   "execution_count": 47,
   "metadata": {},
   "outputs": [],
   "source": [
    "rf_opt = rf_fit.best_estimator_"
   ]
  },
  {
   "cell_type": "code",
   "execution_count": 48,
   "metadata": {},
   "outputs": [
    {
     "data": {
      "text/plain": [
       "<AxesSubplot:xlabel='importance', ylabel='feature'>"
      ]
     },
     "execution_count": 48,
     "metadata": {},
     "output_type": "execute_result"
    },
    {
     "data": {
      "image/png": "[encoded data removed]",
      "text/plain": [
       "<Figure size 432x288 with 1 Axes>"
      ]
     },
     "metadata": {
      "needs_background": "light"
     },
     "output_type": "display_data"
    }
   ],
   "source": [
    "rf_df = pd.DataFrame({'feature' : X.columns, 'importance' : rf_opt.feature_importances_})\n",
    "rf_df = rf_df.sort_values(by = 'importance', ascending = False)\n",
    "sns.barplot(data = rf_df, y = 'feature', x = 'importance')"
   ]
  },
  {
   "cell_type": "code",
   "execution_count": 50,
   "metadata": {},
   "outputs": [
    {
     "name": "stdout",
     "output_type": "stream",
     "text": [
      "Fitting 3 folds for each of 8 candidates, totalling 24 fits\n"
     ]
    },
    {
     "name": "stderr",
     "output_type": "stream",
     "text": [
      "[Parallel(n_jobs=-1)]: Using backend LokyBackend with 8 concurrent workers.\n",
      "[Parallel(n_jobs=-1)]: Done  24 out of  24 | elapsed:    6.1s finished\n",
      "C:\\Users\\admin\\anaconda3\\lib\\site-packages\\xgboost\\sklearn.py:1224: UserWarning: The use of label encoder in XGBClassifier is deprecated and will be removed in a future release. To remove this warning, do the following: 1) Pass option use_label_encoder=False when constructing XGBClassifier object; and 2) Encode your labels (y) as integers starting with 0, i.e. 0, 1, 2, ..., [num_class - 1].\n",
      "  warnings.warn(label_encoder_deprecation_msg, UserWarning)\n",
      "C:\\Users\\admin\\anaconda3\\lib\\site-packages\\xgboost\\data.py:250: FutureWarning: pandas.Int64Index is deprecated and will be removed from pandas in a future version. Use pandas.Index with the appropriate dtype instead.\n",
      "  elif isinstance(data.columns, (pd.Int64Index, pd.RangeIndex)):\n"
     ]
    },
    {
     "name": "stdout",
     "output_type": "stream",
     "text": [
      "[11:03:07] WARNING: ..\\src\\learner.cc:1115: Starting in XGBoost 1.3.0, the default evaluation metric used with the objective 'binary:logistic' was changed from 'error' to 'logloss'. Explicitly set eval_metric if you'd like to restore the old behavior.\n"
     ]
    }
   ],
   "source": [
    "from sklearn.model_selection import GridSearchCV, KFold, StratifiedKFold\n",
    "from xgboost import XGBClassifier\n",
    "\n",
    "model = XGBClassifier(random_state = 42)\n",
    "xgb_grid = [{'n_estimators' : [500, 550],\n",
    "            'max_depth' :[3,5],\n",
    "            'learning_rate' : [0.01, 0.025]}]\n",
    "\n",
    "folds = StratifiedKFold(n_splits = 3)\n",
    "\n",
    "gscv = GridSearchCV(estimator = model, param_grid = xgb_grid, cv = folds, scoring = 'roc_auc', return_train_score = True, verbose = 1, n_jobs = -1)\n",
    "\n",
    "xgb_fit = gscv.fit(X, Y)"
   ]
  },
  {
   "cell_type": "code",
   "execution_count": 51,
   "metadata": {},
   "outputs": [
    {
     "name": "stdout",
     "output_type": "stream",
     "text": [
      "score : 0.8984384911921143\n"
     ]
    },
    {
     "data": {
      "text/plain": [
       "{'learning_rate': 0.01, 'max_depth': 3, 'n_estimators': 550}"
      ]
     },
     "execution_count": 51,
     "metadata": {},
     "output_type": "execute_result"
    }
   ],
   "source": [
    "print(\"score : {}\".format(xgb_fit.best_score_))\n",
    "xgb_fit.best_params_\n"
   ]
  },
  {
   "cell_type": "code",
   "execution_count": 52,
   "metadata": {},
   "outputs": [],
   "source": [
    "xgb_opt = xgb_fit.best_estimator_"
   ]
  },
  {
   "cell_type": "code",
   "execution_count": 53,
   "metadata": {},
   "outputs": [
    {
     "data": {
      "text/plain": [
       "<AxesSubplot:xlabel='importance', ylabel='feature'>"
      ]
     },
     "execution_count": 53,
     "metadata": {},
     "output_type": "execute_result"
    },
    {
     "data": {
      "image/png": "[encoded data removed]",
      "text/plain": [
       "<Figure size 432x288 with 1 Axes>"
      ]
     },
     "metadata": {
      "needs_background": "light"
     },
     "output_type": "display_data"
    }
   ],
   "source": [
    "xgb_df = pd.DataFrame({'feature' : X.columns, 'importance' : xgb_opt.feature_importances_})\n",
    "xgb_df = xgb_df.sort_values(by = 'importance', ascending = False)\n",
    "sns.barplot(data = xgb_df, y = 'feature', x = 'importance')"
   ]
  },
  {
   "cell_type": "code",
   "execution_count": null,
   "metadata": {},
   "outputs": [],
   "source": []
  }
 ],
 "metadata": {
  "kernelspec": {
   "display_name": "Python 3",
   "language": "python",
   "name": "python3"
  },
  "language_info": {
   "codemirror_mode": {
    "name": "ipython",
    "version": 3
   },
   "file_extension": ".py",
   "mimetype": "text/x-python",
   "name": "python",
   "nbconvert_exporter": "python",
   "pygments_lexer": "ipython3",
   "version": "3.8.5"
  }
 },
 "nbformat": 4,
 "nbformat_minor": 4
}
